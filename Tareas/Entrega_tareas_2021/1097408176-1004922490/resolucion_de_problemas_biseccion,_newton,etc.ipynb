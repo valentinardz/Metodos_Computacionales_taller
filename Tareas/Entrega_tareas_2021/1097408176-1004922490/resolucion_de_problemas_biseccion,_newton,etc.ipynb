{
  "nbformat": 4,
  "nbformat_minor": 0,
  "metadata": {
    "colab": {
      "name": "resolucion_de_problemas_biseccion,_newton,etc.ipynb",
      "provenance": [],
      "collapsed_sections": []
    },
    "kernelspec": {
      "name": "python3",
      "display_name": "Python 3"
    },
    "language_info": {
      "name": "python"
    }
  },
  "cells": [
    {
      "cell_type": "markdown",
      "metadata": {
        "id": "8slSCDuWhKTc"
      },
      "source": [
        "# Realizado por: \n",
        "Cristian Andres Gonzalez Rojas\n",
        "Valentina Rodriguez hernandez"
      ]
    },
    {
      "cell_type": "code",
      "metadata": {
        "id": "ieIbMQBr66o4"
      },
      "source": [
        "#librerias \n",
        "import numpy as np\n",
        "from scipy import optimize\n",
        "import matplotlib.pylab as plt"
      ],
      "execution_count": 1,
      "outputs": []
    },
    {
      "cell_type": "markdown",
      "metadata": {
        "id": "CXxPyKFA6Vuh"
      },
      "source": [
        "# Taller Resolver los siguientes problemas, por el metodo de la biseccion, Punto fijo, newton, secante, etc.\n",
        "\n",
        "1. *Encontrar* los ceros de $e^{x}-2= \\cos(e^x-2)$"
      ]
    },
    {
      "cell_type": "markdown",
      "metadata": {
        "id": "cqqexkq7616v"
      },
      "source": [
        "\\begin{equation}\n",
        "f(x) = e^{x} - 2 - \\cos(e^x-2) \n",
        "\\end{equation}\n",
        "\n",
        "\\begin{equation}\n",
        "g(x) = e^{x} - 2 \n",
        "\\end{equation}\n",
        "\n",
        "\\begin{equation}\n",
        "h(x) =  \\cos(e^x-2) \n",
        "\\end{equation}\n",
        "\n",
        "\\begin{equation}\n",
        "f(x) = g(x)-h(x) \n",
        "\\end{equation}\n"
      ]
    },
    {
      "cell_type": "code",
      "metadata": {
        "colab": {
          "base_uri": "https://localhost:8080/",
          "height": 313
        },
        "id": "jME2MTEv6HJh",
        "outputId": "3ff5e2b1-1005-4734-d822-ae590a92fc29"
      },
      "source": [
        "#acomodando la funcion \n",
        "g = lambda x: np.exp(x)-2\n",
        "h = lambda x: np.cos( np.exp(x)-2)\n",
        "f = lambda x: g(x) - h(x)\n",
        "#graficacion de la funcion \n",
        "x = np.linspace(-2, 2, 100)\n",
        "plt.plot(x, g(x), color=\"gold\", label=\"g(x)\")\n",
        "plt.plot(x, h(x), color=\"pink\", label=\"h(x)\")\n",
        "plt.plot(x, h(x)-g(x), color=\"purple\", label=\"f(x)\")\n",
        "plt.xlabel(\"x\")\n",
        "plt.ylabel(\"f(x)\")\n",
        "plt.grid()\n",
        "plt.legend()\n",
        "# primer metodo para saber los ceros de la ecuación, metodo de la bisección\n",
        "root = optimize.bisect(f, 1, 4)\n",
        "print(\"el cero de la ecuacion es x= \",{root})\n",
        "# segundo metodo para saber los ceros de la ecuación metodo de Newton Rapshod\n",
        "root2 = optimize.newton(f, 3)\n",
        "print(\"el cero de la ecuacion es x= \",{root2})"
      ],
      "execution_count": 2,
      "outputs": [
        {
          "output_type": "stream",
          "text": [
            "el cero de la ecuacion es x=  {1.007623971657722}\n",
            "el cero de la ecuacion es x=  {1.0076239716581368}\n"
          ],
          "name": "stdout"
        },
        {
          "output_type": "display_data",
          "data": {
            "image/png": "[encoded data removed]",
            "text/plain": [
              "<Figure size 432x288 with 1 Axes>"
            ]
          },
          "metadata": {
            "tags": [],
            "needs_background": "light"
          }
        }
      ]
    },
    {
      "cell_type": "markdown",
      "metadata": {
        "id": "v5qGo5tm6YJw"
      },
      "source": [
        "2. Una particula parte del reposo sobre un plano inclinado uniforme, cuyo ángulo \n",
        "$\\theta$ cambia con una rapidez constante de : \n",
        "\n",
        "\\begin{equation}\n",
        "\\frac{\\mathrm{d}\\theta}{\\mathrm{d} t} = \\omega < 0\n",
        "\\end{equation}\n",
        "\n",
        "Al final de t segundos, la posición del objeto esta dada por: \n",
        "\n",
        "\n",
        "\\begin{equation}\n",
        "x(t) = -\\frac{g}{2\\omega^2} \\left( \\frac{e^{\\omega t}-e^{-\\omega t}}{2}\\right) -\\sin\\omega t\n",
        "\\end{equation}\n",
        "\n",
        "\n",
        "Suponga que la partícula se desplazo 0.51m en 1s. Encuentre, con una exactitud de $10^{-5}$, la rapidez $\\omega$ con que $\\theta$ cambia. Suponga que $g=9.76m/s$\n",
        "\n",
        "\n",
        "![Plano Inclinado](https://raw.githubusercontent.com/hernansalinas/Metodos_Computacionales_taller/main/sesiones/images/ecuacion_1_variable/Fig0.png)\n"
      ]
    },
    {
      "cell_type": "markdown",
      "metadata": {
        "id": "pDF5IqRp9eSk"
      },
      "source": [
        "\\begin{equation}\n",
        "x(t) = -\\frac{g}{2\\omega^2} \\left( \\frac{e^{\\omega t}-e^{-\\omega t}}{2}\\right) -\\sin\\omega t\n",
        "\\end{equation}\n",
        "\n",
        "\\begin{equation}\n",
        "f(\\omega,t ) = 2\\omega^2(x(t)+\\sin \\omega t )\n",
        "\\end{equation}\n",
        "\n",
        "\n",
        "\\begin{equation}\n",
        "g(\\omega,t ) = -g\\left( \\frac{e^{\\omega t}-e^{-\\omega t}}{2}\\right) \n",
        "\\end{equation}"
      ]
    },
    {
      "cell_type": "code",
      "metadata": {
        "colab": {
          "base_uri": "https://localhost:8080/",
          "height": 330
        },
        "id": "fJ2GVStz6dij",
        "outputId": "4ec94386-2fb0-4571-9baa-33854fc9185a"
      },
      "source": [
        "f = lambda omega : 2*omega**2 * (0.51+np.sin(omega))\n",
        "g = lambda omega : -9.76* 0.5*(np.exp(omega)-np.exp(-omega))\n",
        "h = lambda omega : f(omega)-g(omega)\n",
        "#graficando\n",
        "omega = np.linspace(-np.pi/4, np.pi/4)\n",
        "plt.figure()\n",
        "plt.plot(omega, h(omega), color=\"turquoise\" )\n",
        "plt.xlabel(\"x\")\n",
        "plt.ylabel(\"f(x)\")\n",
        "plt.grid()\n",
        "plt.legend()\n",
        "# primer metodo para saber los ceros de la ecuación, metodo de la bisección\n",
        "root = optimize.bisect(f, 1, 4)\n",
        "print(\"la rapidez w es = \",{root})\n",
        "\n",
        "# primer metodo para saber los ceros de la ecuación, metodo de Newton Rapshod\n",
        "root2 = optimize.newton(f, 3)\n",
        "print(\"la rapidez w es= \",{root2})\n",
        "\n"
      ],
      "execution_count": 3,
      "outputs": [
        {
          "output_type": "stream",
          "text": [
            "No handles with labels found to put in legend.\n"
          ],
          "name": "stderr"
        },
        {
          "output_type": "stream",
          "text": [
            "la rapidez w es =  {3.6767774438662855}\n",
            "la rapidez w es=  {3.6767774438653933}\n"
          ],
          "name": "stdout"
        },
        {
          "output_type": "display_data",
          "data": {
            "image/png": "[encoded data removed]",
            "text/plain": [
              "<Figure size 432x288 with 1 Axes>"
            ]
          },
          "metadata": {
            "tags": [],
            "needs_background": "light"
          }
        }
      ]
    },
    {
      "cell_type": "markdown",
      "metadata": {
        "id": "8EwNWk3E6enb"
      },
      "source": [
        "3. Un reservorio de longitud L tiene una seccion transveral en forma de semicirculo con radio r.\n",
        "\n",
        "\\begin{equation}\n",
        "V=L \\left ( \\frac{1}{2}\\pi r^2 -r^2 \\arcsin{\\frac{h}{r}}-h(r^2-h^2) ^{1/2} \\right)\n",
        "\\end{equation}\n",
        "\n",
        "Determinar la profundidad del agua para L=10pies, r=1pies, V=12.4pies\n",
        "\n",
        "\n",
        "![Reservorio](https://raw.githubusercontent.com/hernansalinas/Metodos_Computacionales_taller/main/sesiones/images/ecuacion_1_variable/Fig1.png)"
      ]
    },
    {
      "cell_type": "markdown",
      "metadata": {
        "id": "h_aepziD2BRy"
      },
      "source": [
        "Igualando a 0: \n",
        "\\begin{equation}\n",
        "-V+L \\left ( \\frac{1}{2}\\pi r^2 -r^2 \\arcsin{\\frac{h}{r}}-h(r^2-h^2) ^{1/2} \\right)=0\n",
        "\\end{equation}\n",
        "Introduciendo los valores de $L$, $r$, $V$\n",
        "\n",
        "\\begin{equation}\n",
        "f(h)= -12.4+(10)\\frac{1}{2}\\pi 1^2 - (10)1^2 \\arcsin{\\frac{h}{1}}-(10)h(1^2-h^2) ^{1/2} \n",
        "\\end{equation}\n",
        "\n",
        "Separando la ecuación \n",
        "\\begin{equation}\n",
        "z(h)=12.4\n",
        "\\end{equation}\n",
        "\n",
        "\\begin{equation}\n",
        "i(h)=(10)\\frac{1}{2}\\pi 1^2\n",
        "\\end{equation}\n",
        "\n",
        "\\begin{equation}\n",
        "j(h)=-(10)1^2 \\arcsin{\\frac{h}{1}}\n",
        "\\end{equation}\n",
        "\n",
        "\\begin{equation}\n",
        "k(h)=-(10)h(1^2-h^2) ^{1/2} \n",
        "\\end{equation}\n",
        "\n",
        "\\begin{equation}\n",
        "m(h)= z(h)-i(h)-j(h)-k(h)\n",
        "\\end{equation}\n",
        "\n"
      ]
    },
    {
      "cell_type": "code",
      "metadata": {
        "colab": {
          "base_uri": "https://localhost:8080/",
          "height": 347
        },
        "id": "yEePMGt4NNNX",
        "outputId": "0f02f8c0-6be0-4061-f946-063c52208992"
      },
      "source": [
        "#escribiendo las funciones de arriba \n",
        "z = lambda h: 12.4  \n",
        "i = lambda h: 10*(0.5*np.pi*1) \n",
        "j = lambda h: -(1*np.arcsin(h)*10)\n",
        "k = lambda h: -h*(1-(h**2))**0.5*10\n",
        "m = lambda h: z(h)-i(h)-j(h)-k(h)  \n",
        "#graficando estas funciones\n",
        "h = np.linspace(0,1,50) # grilla de evaluacion \n",
        "plt.figure()\n",
        "plt.plot(h, m(h), color=\"thistle\")# grafico la funcion\n",
        "plt.xlabel(\"x\")\n",
        "plt.ylabel(\"f(x)\")\n",
        "plt.grid()\n",
        "plt.legend()\n",
        "# metodo para saber los ceros de la ecuación, metodo de bisección\n",
        "root5 = optimize.bisect(m, 0.1, 0.4)\n",
        "print(\"h es igual a\",round(root5,3),\"pies\")\n",
        "# metodo para saber los ceros de la ecuación, metodo de la Newton\n",
        "root6 = optimize.newton(m, 0.4)\n",
        "print(\"h es igual a\",round(root6,3),\"pies\")#mostrando el resultado de h\n",
        "# Profundidad del agua r-h\n",
        "profundidad = 1- root5\n",
        "print(\"la profundidad del agua es:\",round(profundidad,3),\"pies\")#mostrando resultado de la profundidad"
      ],
      "execution_count": 8,
      "outputs": [
        {
          "output_type": "stream",
          "text": [
            "No handles with labels found to put in legend.\n"
          ],
          "name": "stderr"
        },
        {
          "output_type": "stream",
          "text": [
            "h es igual a 0.166 pies\n",
            "h es igual a 0.166 pies\n",
            "la profundidad del agua es: 0.834 pies\n"
          ],
          "name": "stdout"
        },
        {
          "output_type": "display_data",
          "data": {
            "image/png": "[encoded data removed]",
            "text/plain": [
              "<Figure size 432x288 with 1 Axes>"
            ]
          },
          "metadata": {
            "tags": [],
            "needs_background": "light"
          }
        }
      ]
    },
    {
      "cell_type": "markdown",
      "metadata": {
        "id": "8PwNctJW6r-y"
      },
      "source": [
        "|4.Resolver la siguiente situación\n",
        "\n",
        "En el diseño de los vehiculos para todo tipo de terreno,  es necesario tener encuentra fallas cuando se trata de liberar dos tipos de obstáculos. Una es la falla por rozamiento, y ocurre cuando el vehiculo \n",
        "intenta cruzar un obstáculo que hace que su fondo toque el suelo. La otra recibie el nombre de falla por colision de la defensa delantera y ocurre cuando el vehiculo desciende por una zanja y la defensa delantera toca el suelo.\n",
        "\n",
        "\n",
        "\n",
        "La figura muestra las componentes asociados al segundo tipo  de falla. En ella se indeca el ángulo máximo $\\alpha$ que puede alcanzar un vehiculo cuando $\\beta$ es el angulo maximo en que no ocurre la falla \n",
        "por rozamiento y satisface la siguiente ecuación: \n",
        "\n",
        "\n",
        "\\begin{equation}\n",
        "A \\sin(\\alpha) \\cos(\\alpha)+B \\sin^2(\\alpha) - C \\cos(\\alpha) -  E  \\sin(\\alpha)=0\n",
        "\\end{equation}\n",
        "\n",
        "donde; \n",
        "\\begin{equation}\n",
        "A = l \\sin(\\beta)\n",
        "\\end{equation}\n",
        "\n",
        "\\begin{equation}\n",
        "B = l \\cos(\\beta)\n",
        "\\end{equation}\n",
        "\\begin{equation}\n",
        "C = (h + 0.5 D )\\sin(\\beta) - 0.5 D \\tan(\\beta)\n",
        "\\end{equation}\n",
        "\n",
        "\\begin{equation}\n",
        "E = (h + 0.5 D ) \\cos(\\beta) - 0.5 * D\n",
        "\\end{equation}\n",
        "\n",
        "\n",
        "Para $l=89$pulg, $h=49$pul, $D=55$, $\\beta=11.5$ , el angulo se aproximara a 33. Verificar este resultados\n",
        "\n",
        "\n",
        "![fallas_vehiculo](https://raw.githubusercontent.com/hernansalinas/Metodos_Computacionales_taller/main/sesiones/images/ecuacion_1_variable/Fig2.png)\n",
        "\n",
        "Referencias: Numerical Analysis Book by J. Douglas Faires and Richard L. Burden\n"
      ]
    },
    {
      "cell_type": "markdown",
      "metadata": {
        "id": "hSaCRnk5DVIn"
      },
      "source": [
        "Sustitucion de A, B, C, E\n",
        "\n",
        "\\begin{equation}\n",
        "(l \\sin(\\beta)) \\sin(\\alpha) \\cos(\\alpha))+ ((l \\cos(\\beta)) \\sin^2(\\alpha)) - ((h + 0.5 D )\\sin(\\beta) - 0.5 D \\tan(\\beta)) \\cos(\\alpha) -  ((h + 0.5 D ) \\cos(\\beta) - 0.5 * D)  \\sin(\\alpha)=0\n",
        "\\end{equation}\n",
        "\n",
        "Sustituyendo $l$, $h$, $D$ en la ecuación anterior \n",
        "\n",
        "\n",
        "\\begin{equation}\n",
        "((89) \\sin(11.5)) \\sin(\\alpha) \\cos(\\alpha)+ ((89) \\cos(11.5)) \\sin^2(\\alpha) - ((49 + 0.5 (55) )\\sin(11.5) - 0.5 (55) \\tan(11.5)) \\cos(\\alpha) -  ((49 + 0.5 (55) ) \\cos(11.5) - 0.5 * (55))  \\sin(\\alpha)=0\n",
        "\\end{equation}\n",
        "\n",
        "Dividiendo la ecuación\n",
        "\n",
        "\\begin{equation}\n",
        "a(\\alpha)=((89) \\sin(11.5)) \\sin(\\alpha) \\cos(\\alpha)\n",
        "\\end{equation}\n",
        "\n",
        "\\begin{equation}\n",
        "b(\\alpha)= ((89) \\cos(11.5)) \\sin^2(\\alpha)\n",
        "\\end{equation}\n",
        "\n",
        "\\begin{equation}\n",
        "c(\\alpha)= ((49 + 0.5 (55) )\\sin(11.5)\\cos(\\alpha)\n",
        "\\end{equation}\n",
        "\n",
        "\\begin{equation}\n",
        "d(\\alpha)=  0.5 (55) \\tan(11.5)) \\cos(\\alpha)\n",
        "\\end{equation}\n",
        "\n",
        "\\begin{equation}\n",
        "e(\\alpha)=((49 + 0.5 (55) ) \\cos(11.5)*\\sin(\\alpha)\n",
        "\\end{equation}\n",
        "\n",
        "\\begin{equation}\n",
        "f(\\alpha)=0.5 * (55))  \\sin(\\alpha)\n",
        "\\end{equation}\n",
        "\n",
        "\\begin{equation}\n",
        "g(\\alpha)= a(\\alpha)+ b(\\alpha) - c(\\alpha) + d(\\alpha) -  e(\\alpha) + f(\\alpha)\n",
        "\\end{equation}\n",
        "\n"
      ]
    },
    {
      "cell_type": "code",
      "metadata": {
        "colab": {
          "base_uri": "https://localhost:8080/"
        },
        "id": "wxmTv8IkI0db",
        "outputId": "594bef12-0682-4e42-9a46-661f1b89e7ba"
      },
      "source": [
        "grado= (11.5*np.pi)/180 #pasando beta a radianes\n",
        "print(grado)"
      ],
      "execution_count": 5,
      "outputs": [
        {
          "output_type": "stream",
          "text": [
            "0.20071286397934787\n"
          ],
          "name": "stdout"
        }
      ]
    },
    {
      "cell_type": "code",
      "metadata": {
        "colab": {
          "base_uri": "https://localhost:8080/",
          "height": 313
        },
        "id": "UFKAKxPTNLJm",
        "outputId": "7f89ab66-c293-4103-8987-ad123267c25b"
      },
      "source": [
        "#escribiendo las ecuaciones halladas arriba\n",
        "a = lambda alpha : (89*np.sin(0.2007)*np.sin(alpha)*np.cos(alpha))\n",
        "b = lambda alpha : (89*np.cos(0.2007)*((np.sin(alpha))**2))\n",
        "c = lambda alpha : ((49 + (0.5*55))*np.sin(0.2007)*np.cos(alpha))\n",
        "d = lambda alpha : (0.5 *55*np.tan(0.2007)*np.cos(alpha))\n",
        "e = lambda alpha : ((49 + (0.5*55))*np.cos(0.2007)*np.sin(alpha))\n",
        "f = lambda alpha : (0.5*55*np.sin(alpha))\n",
        "g = lambda alpha : a(alpha)+ b(alpha) - c(alpha) + d(alpha) -  e(alpha) + f(alpha)\n",
        "\n",
        "#graficando estas funciones\n",
        "alpha = np.linspace(0,np.pi/2) # grilla de evaluacion \n",
        "plt.figure()\n",
        "plt.plot(alpha, g(alpha), color=\"lightcoral\")# grafico la funcion\n",
        "plt.xlabel(\"x\")\n",
        "plt.ylabel(\"f(x)\")\n",
        "plt.grid()\n",
        "plt.legend()\n",
        "# metodo para saber los ceros de la ecuación, metodo de la Newton\n",
        "root3 = optimize.newton(g,0.6)\n",
        "rad= (root3*180)/np.pi #cambiando radianes a grados\n",
        "print(\"El angulo es:\", round(rad,2),\" se puede observar que se aproxima a 33 grados\")#mostrando los resultados\n"
      ],
      "execution_count": 6,
      "outputs": [
        {
          "output_type": "stream",
          "text": [
            "No handles with labels found to put in legend.\n"
          ],
          "name": "stderr"
        },
        {
          "output_type": "stream",
          "text": [
            "El angulo es: 32.97  se puede observar que se aproxima a 33 grados\n"
          ],
          "name": "stdout"
        },
        {
          "output_type": "display_data",
          "data": {
            "image/png": "[encoded data removed]",
            "text/plain": [
              "<Figure size 432x288 with 1 Axes>"
            ]
          },
          "metadata": {
            "tags": [],
            "needs_background": "light"
          }
        }
      ]
    },
    {
      "cell_type": "code",
      "metadata": {
        "id": "CEywk5i-PxXI"
      },
      "source": [
        ""
      ],
      "execution_count": 6,
      "outputs": []
    }
  ]
}