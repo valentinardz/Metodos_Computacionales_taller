{
  "nbformat": 4,
  "nbformat_minor": 0,
  "metadata": {
    "colab": {
      "name": "Taller pandas.ipynb",
      "provenance": [],
      "collapsed_sections": []
    },
    "kernelspec": {
      "name": "python3",
      "display_name": "Python 3"
    },
    "language_info": {
      "name": "python"
    }
  },
  "cells": [
    {
      "cell_type": "markdown",
      "metadata": {
        "id": "Mv46FB9JpJT0"
      },
      "source": [
        "# Problema 3\n",
        "\n",
        "1. Leer el dataset country_vaccinations.csv  y filtrar los datos para Colombia\n",
        "2. Crear un csv con los datos para colombia\n",
        "3. Realizar una comparacion con los paises latinoamericanos. \n",
        "4. A traves de mascaras determinar el numero de vacunados en el intervalo  [1.5E6, 2.0E6]"
      ]
    },
    {
      "cell_type": "markdown",
      "metadata": {
        "id": "Mc2Q3fXxmEEb"
      },
      "source": [
        "Realizado por Cristian Andrès Gonzalez Rojas y Valentina Rodriguez Hernandez"
      ]
    },
    {
      "cell_type": "code",
      "metadata": {
        "colab": {
          "base_uri": "https://localhost:8080/"
        },
        "id": "6z_9uxG7V0A9",
        "outputId": "07526389-b0d4-463e-e5f9-b721cbb36a2f"
      },
      "source": [
        "\n",
        "#lectura del archivo CSV\n",
        "import pandas as pd\n",
        "path=\"https://docs.google.com/spreadsheets/d/e/2PACX-1vSfBl3kii5eJ2mhYt_jW-cSwiJwdNDgTXZcgiN_XeTd4e7b2MomSjJDwjpRliJ0yMkl8w31b0M4vsOS/pub?output=csv\"\n",
        "\n",
        "#Modificacion de datos\n",
        "datos= pd.read_csv(path, index_col=\"country\")\n",
        "datos.fillna(0)\n",
        "datos_importantes = datos[[\"total_vaccinations\",\"people_vaccinated\",\"people_fully_vaccinated\",\"daily_vaccinations_raw\",\"daily_vaccinations\",\"total_vaccinations_per_hundred\",\"people_vaccinated_per_hundred\",\"people_fully_vaccinated_per_hundred\",\"daily_vaccinations_per_million\"]]\n",
        "\n",
        "#Comparacion con los paises latinoamericanos:\n",
        "latinoamerica= [\"Argentina\",\"Bolivia\",\"Chile\",\"Colombia\",\"Costa Rica\",\"Ecuador\",\"El Salvador\",\"Guatemala\",\"Honduras\",\"Mexico\",\"Panama\",\"Paraguay\",\"Peru\",\"Dominican Republic\",\"Uruguay\",\"Venezuela\"]\n",
        "\n",
        "list1=[]\n",
        "list2=[]\n",
        "list3=[]\n",
        "list4=[]\n",
        "list5=[]\n",
        "list6=[]\n",
        "list7=[]\n",
        "list8=[]\n",
        "list9=[]\n",
        "\n",
        "#Tratamiento de los tipos de datos de la tabla\n",
        "for t in latinoamerica:\n",
        "  df = datos_importantes.loc[t]\n",
        "  num = df[\"total_vaccinations\"].max()\n",
        "  list1.append(num)\n",
        "for t in latinoamerica:\n",
        "  df = datos_importantes.loc[t]\n",
        "  num = df[\"people_vaccinated\"].max()\n",
        "  list2.append(num)\n",
        "for t in latinoamerica:\n",
        "  df = datos_importantes.loc[t]\n",
        "  num = df[\"people_fully_vaccinated\"].max()\n",
        "  list3.append(num)\n",
        "for t in latinoamerica:\n",
        "  df = datos_importantes.loc[t]\n",
        "  num = df[\"daily_vaccinations_raw\"].mean()\n",
        "  list4.append(num)\n",
        "for t in latinoamerica:\n",
        "  df = datos_importantes.loc[t]\n",
        "  num = df[\"daily_vaccinations\"].mean()\n",
        "  list5.append(num)\n",
        "for t in latinoamerica:\n",
        "  df = datos_importantes.loc[t]\n",
        "  num = df[\"total_vaccinations_per_hundred\"].mean()\n",
        "  list6.append(num)\n",
        "for t in latinoamerica:\n",
        "  df = datos_importantes.loc[t]\n",
        "  num = df[\"people_vaccinated_per_hundred\"].mean()\n",
        "  list7.append(num)\n",
        "for t in latinoamerica:\n",
        "  df = datos_importantes.loc[t]\n",
        "  num = df[\"people_fully_vaccinated_per_hundred\"].mean()\n",
        "  list8.append(num)\n",
        "for t in latinoamerica:\n",
        "  df = datos_importantes.loc[t]\n",
        "  num = df[\"daily_vaccinations_per_million\"].mean()\n",
        "  list9.append(num)\n",
        "\n",
        "#creacion de un DataFrame con los resultados obtenidos de toda Latinoamerica, para poder comparar los resultados entre ellos mismos\n",
        "dic=[]\n",
        "dtf=[]\n",
        "\n",
        "\n",
        "for i in range(0,16,1):\n",
        "  dic={\n",
        "          \"total_vaccinations\":list1[i],\n",
        "          \"people_vaccinated\":list2[i],\n",
        "          \"people_fully_vaccinated\":list3[i],\n",
        "          \"daily_vaccinations_raw\":list4[i],\n",
        "          \"daily_vaccinations\":list5[i],\n",
        "          \"total_vaccinations_per_hundred\":list6[i],\n",
        "          \"people_vaccinated_per_hundred\":list7[i],\n",
        "          \"people_fully_vaccinated_per_hundred\":list8[i],\n",
        "          \"daily_vaccinations_per_million\":list9[i]\n",
        "          }\n",
        "  dtf.append(dic)\n",
        "\n",
        "dtff = pd.DataFrame(dtf)\n",
        "dtff.index=latinoamerica\n",
        "print(dtff)\n",
        "\n",
        "#Determinar el numero de vacunados en el intervalo [1.5E6, 2.0E6], \"millon y medio y dos millones de vacunados\".\n",
        "\n",
        "dtffintervalo1 = dtff[dtff[\"total_vaccinations\"]>=(1.5*10**6)]\n",
        "dtffintervalo2 = dtffintervalo1[dtffintervalo1[\"total_vaccinations\"]<=(2*10**6)]\n",
        "print(\"Los pais/paises con el numero de vacunados en el intervalo [1.5E6, 2.0E6] es/son:\")\n",
        "print(dtffintervalo2)\n",
        "\n",
        "#Creacion de un CSV con los datos de Colombia\n",
        "datos_filtrados = datos.loc[\"Colombia\"]\n",
        "datos_filtrados.to_csv(\"DatosColombia\")\n"
      ],
      "execution_count": null,
      "outputs": [
        {
          "output_type": "stream",
          "text": [
            "                    total_vaccinations  ...  daily_vaccinations_per_million\n",
            "Argentina                    4771214.0  ...                      973.680000\n",
            "Bolivia                       378455.0  ...                      418.768116\n",
            "Chile                       11396072.0  ...                     5534.826923\n",
            "Colombia                     2691513.0  ...                      996.816327\n",
            "Costa Rica                    504930.0  ...                      877.417476\n",
            "Ecuador                       356783.0  ...                      230.786667\n",
            "El Salvador                   160000.0  ...                      461.285714\n",
            "Guatemala                     127945.0  ...                      164.268293\n",
            "Honduras                       52772.0  ...                      144.588235\n",
            "Mexico                      10642873.0  ...                      700.438095\n",
            "Panama                        456929.0  ...                     1198.949367\n",
            "Paraguay                       48684.0  ...                      148.377778\n",
            "Peru                          948901.0  ...                      524.350877\n",
            "Dominican Republic           1101528.0  ...                     1911.511111\n",
            "Uruguay                       960832.0  ...                     6240.225000\n",
            "Venezuela                      98000.0  ...                       49.636364\n",
            "\n",
            "[16 rows x 9 columns]\n",
            "Los pais/paises con el numero de vacunados en el intervalo [1.5E6, 2.0E6] es/son:\n",
            "Empty DataFrame\n",
            "Columns: [total_vaccinations, people_vaccinated, people_fully_vaccinated, daily_vaccinations_raw, daily_vaccinations, total_vaccinations_per_hundred, people_vaccinated_per_hundred, people_fully_vaccinated_per_hundred, daily_vaccinations_per_million]\n",
            "Index: []\n"
          ],
          "name": "stdout"
        }
      ]
    }
  ]
}