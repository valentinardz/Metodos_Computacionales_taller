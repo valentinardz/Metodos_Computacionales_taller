{
  "nbformat": 4,
  "nbformat_minor": 0,
  "metadata": {
    "colab": {
      "name": "Rodriguez_Valentina_2490.ipynb",
      "provenance": [],
      "collapsed_sections": []
    },
    "kernelspec": {
      "name": "python3",
      "display_name": "Python 3"
    },
    "language_info": {
      "name": "python"
    }
  },
  "cells": [
    {
      "cell_type": "code",
      "metadata": {
        "id": "e84NdC3-W7CG"
      },
      "source": [
        "#librerias\n",
        "import matplotlib.pyplot as plt\n",
        "import numpy as np\n",
        "from scipy.integrate import odeint"
      ],
      "execution_count": 1,
      "outputs": []
    },
    {
      "cell_type": "markdown",
      "metadata": {
        "id": "8l0KypHEXSxx"
      },
      "source": [
        "Paracaidista en un atmosfera no uniforme.\n",
        "En una atmósfera isotérmica, la variación de la presión en función de la altitud está dada por la ley de Laplace.\n",
        "\n",
        "$$\n",
        "P=P_0 e^{-\\frac{Mgy}{kT}}\n",
        "$$\n",
        "$P_0=1atm$ es la presión de la atmósfera a nivel del mar\n",
        "M es el peso molecular del aire $28.8 g/mol=0.0288 kg/mol$\n",
        "g es la aceleración de la gravedad\n",
        "$k=1.3805·10^{-23}$ J/K es la constante de Boltzmann\n",
        "$T$ es la temperatura de la atmósfera en kelvin\n",
        "$NA=6.0225\\times 10^23$ es el número de Avogadro, número de moléculas que caben en un mol.\n",
        "Suponiendo que el aire se comporta como un gas ideal, su densidad varía con la altura de la misma forma que la presión, $\\rho=\\rho_0 exp(-y/\\lambda)$. La densidad del aire al nivel del mar es $\\rho_0=1.29 kg/m^3$ y la constante $\\lambda=7482.2 m$\n",
        "\n",
        "Las fuerzas que actuan sobre el paracaidista son: El peso y la fuerza de fricción $f=\\frac{1}{2}\\rho A \\delta v^2$, donde $\\rho$ es la densidad que depende de la altura, A es el area de seccion trasnversal expuesta al aire y $\\delta $ es coeficiente de rozamiento. La Ecuacion diferencial de movimiento viene dada por:\n",
        "$$\n",
        "\\frac{\\mathrm{d}^2y}{\\mathrm{d}t^2} = - mg + \\frac{A\\delta}{2m} \\rho v^2 \n",
        "$$$$\n",
        "\\frac{\\mathrm{d}^2y}{\\mathrm{d}t^2} = - mg + k_0v^2 exp(-y/\\lambda)\n",
        "$$\n",
        "donde $k_0=\\frac{\\rho_0A\\delta}{2m}$, siendo $\\rho_0$ la densidad al nivel del mar.\n",
        "\n",
        "Para la situación descrita, su tarea será elaborar un notebook de jupyter para resolver lo siguente:\n",
        "\n",
        "Elaborar una gráfica de la densidad como función de la altura.\n",
        "Diseñar un programa que resuelva la ecuación diferencial que describe el movimiento del paracaidista, para los siguientes parámetros:\n",
        "* $m=60kg$, $A=0.3m^2$, $h=30km$.\n",
        "* $m=60kg$, $A=0.3m^2$, $h=40km$.\n",
        "* $m=60kg$, $A=0.3m^2$, $h=50km$.\n",
        "* $m=60kg$, $A=0.3m^2$, $h=60km$.\n",
        "* $m=60kg$, $A=0.3m^2$, $h=70km$.\n",
        "\n",
        "Con la solucion de la ecuacion diferencial, elaborar una gráfica de.\n",
        "* la posición como función del tiempo.\n",
        "* La velocidad como función del tiempo.\n",
        "* La velocidad como función de la posición\n",
        "\n",
        "Determine numéricamente y analiticamente el valor de la velocidad maxima para las diferentes altura Compara su resultado con:\n",
        "http://www.sc.ehu.es/sbweb/fisica3/fluidos/paracaidas/paracaidas_1.html\n",
        "\n",
        "Realice un grafico de la velocidad maxima como función de la altura de caida.\n",
        "\n",
        "\n",
        "\n",
        "\n"
      ]
    },
    {
      "cell_type": "markdown",
      "metadata": {
        "id": "zkz4W5IiAsNd"
      },
      "source": [
        "Elaborar una gráfica de la densidad como función de la altura."
      ]
    },
    {
      "cell_type": "code",
      "metadata": {
        "id": "1wbRneL0Yvnv",
        "colab": {
          "base_uri": "https://localhost:8080/"
        },
        "outputId": "317fcbe9-a506-49d3-922b-f119bf1982df"
      },
      "source": [
        "#definir variables\n",
        "p0=1#atm\n",
        "M=0.0288#kg/mol\n",
        "g=9.8#m/s**2\n",
        "k=1.3805e-23 #J/K\n",
        "T=254 #k\n",
        "NA=6.0225e23#numero de avogadro\n",
        "lamda=7482.2 #m\n",
        "p_0=1.29#kg/m**3\n",
        "#para el paracaidista\n",
        "m = 60 #kg\n",
        "A = 0.3 #m^2 \n",
        "δ = 0.5 #valor arbitrario   \n",
        "\n",
        "\n",
        "\n",
        "y=np.linspace(0,50000,1000)#grilla de evaluacion\n",
        "#construccion de la funcion\n",
        "def P(y):\n",
        "  p=p_0*(np.e**((-y*g*M)/(NA*T*k)))\n",
        "  return p\n",
        "#graficacion\n",
        "plt.figure()\n",
        "plt.xlabel(\"$H(m)$\")\n",
        "plt.ylabel(\"$P(kg/m^3)$\")\n",
        "plt.title(\"Densidad como función de la altura\")\n",
        "plt.plot(y, P(y), color=\"hotpink\")\n",
        "plt.grid()\n",
        "\n"
      ],
      "execution_count": 2,
      "outputs": [
        {
          "output_type": "display_data",
          "data": {
            "image/png": "[encoded data removed]",
            "text/plain": [
              "<Figure size 432x288 with 1 Axes>"
            ]
          },
          "metadata": {
            "needs_background": "light"
          }
        }
      ]
    },
    {
      "cell_type": "markdown",
      "metadata": {
        "id": "jJv-MjDDAwMh"
      },
      "source": [
        "Diseñar un programa que resuelva la ecuación diferencial que describe el movimiento del paracaidista, para los siguientes parámetros:"
      ]
    },
    {
      "cell_type": "code",
      "metadata": {
        "id": "EWOUF_4-fodS"
      },
      "source": [
        "#parte del reposo\n",
        "v_0 = 0 \n",
        "#condiciones iniciales\n",
        "h_1 = np.array([30000, v_0]) \n",
        "h_2 = np.array([40000, v_0]) \n",
        "h_3 = np.array([50000, v_0]) \n",
        "h_4 = np.array([60000, v_0]) \n",
        "h_5 = np.array([70000, v_0]) \n",
        "#ecuacion de k_0\n",
        "k_0 = p_0*A*δ/(2*m)\n",
        "# funcion para retornar las derivadas en la ecuacion diferencial\n",
        "def paracaidas(x, t, parametros):\n",
        "    m =  parametros[0]\n",
        "    k_0 = parametros[2]\n",
        "    g =  parametros[1]\n",
        "    lamda =  parametros[3]  \n",
        "    dxdt = x[1]\n",
        "    dvdt =  -g +k_0*(x[1]**2)*np.exp(-x[0]/lamda) \n",
        "    return [dxdt, dvdt]\n",
        "parametros = [m, g, k_0,lamda ]\n",
        "#grilla de evaluacion\n",
        "t = np.linspace(0,280,1000) \n",
        "#resolviendo la ecuacion diferencial\n",
        "y_1 = odeint(paracaidas, h_1, t, args=(parametros, ) )  \n",
        "y_2 = odeint(paracaidas, h_2, t, args=(parametros, ) )  \n",
        "y_3 = odeint(paracaidas, h_3, t, args=(parametros, ) )  \n",
        "y_4 = odeint(paracaidas, h_4, t, args=(parametros, ) )  \n",
        "y_5 = odeint(paracaidas, h_5, t, args=(parametros, ) )\n",
        "#posicion \n",
        "x_1 = y_1[:,0]#en 30km\n",
        "x_2 = y_2[:,0]#en 40km\n",
        "x_3 = y_3[:,0]#en 50km\n",
        "x_4 = y_4[:,0]#en 60km\n",
        "x_5 = y_5[:,0]#en 70km\n",
        "#velocidad\n",
        "v_1 = y_1[:,1]#en 30km\n",
        "v_2 = y_2[:,1]#en 40km\n",
        "v_3 = y_3[:,1]#en 50km\n",
        "v_4 = y_4[:,1]#en 60km\n",
        "v_5 = y_5[:,1]#en 70km\n",
        "\n"
      ],
      "execution_count": 3,
      "outputs": []
    },
    {
      "cell_type": "markdown",
      "metadata": {
        "id": "pM4Rs0vjA5F5"
      },
      "source": [
        "Con la solucion de la ecuacion diferencial, elaborar una gráfica de."
      ]
    },
    {
      "cell_type": "code",
      "metadata": {
        "id": "q0ABhnZ1gqak",
        "colab": {
          "base_uri": "https://localhost:8080/"
        },
        "outputId": "d22dd36b-451e-499e-a44a-ca97826d4c35"
      },
      "source": [
        "#la posición como función del tiempo\n",
        "plt.title(\"La posición como función del tiempo\")\n",
        "plt.plot(t,x_1, label=\"$h=30km$\", color=\"aquamarine\")\n",
        "plt.plot(t,x_2, label=\"$h=40km$\", color=\"rosybrown\" )\n",
        "plt.plot(t,x_3, label=\"$h=50km$\", color=\"sienna\")\n",
        "plt.plot(t,x_4, label=\"$h=60km$\", color=\"deepskyblue\")\n",
        "plt.plot(t,x_5, label=\"$h=70km$\")\n",
        "plt.xlabel(\"$Tiempo $\")\n",
        "plt.ylabel(\"$Posición $\")\n",
        "plt.grid()\n",
        "plt.legend()\n"
      ],
      "execution_count": 4,
      "outputs": [
        {
          "output_type": "execute_result",
          "data": {
            "text/plain": [
              "<matplotlib.legend.Legend at 0x7ff61e6a94d0>"
            ]
          },
          "metadata": {},
          "execution_count": 4
        },
        {
          "output_type": "display_data",
          "data": {
            "image/png": "[encoded data removed]",
            "text/plain": [
              "<Figure size 432x288 with 1 Axes>"
            ]
          },
          "metadata": {
            "needs_background": "light"
          }
        }
      ]
    },
    {
      "cell_type": "code",
      "metadata": {
        "colab": {
          "base_uri": "https://localhost:8080/"
        },
        "id": "gLCyYFwu_J_g",
        "outputId": "978a9dcf-1cab-45c3-f206-c132fe2b54ce"
      },
      "source": [
        "#la posición como función del tiempo\n",
        "plt.title(\"La velocidad como función del tiempo\")\n",
        "plt.plot(t,-v_1, label=\"$h=30km$\", color=\"aquamarine\")\n",
        "plt.plot(t,-v_2, label=\"$h=40km$\", color=\"rosybrown\")\n",
        "plt.plot(t,-v_3, label=\"$h=50km$\", color=\"sienna\")\n",
        "plt.plot(t,-v_4, label=\"$h=60km$\", color=\"deepskyblue\")\n",
        "plt.plot(t,-v_5, label=\"$h=70km$\", color=\"lightpink\")\n",
        "plt.xlabel(\"$Tiempo $\")\n",
        "plt.ylabel(\"$Velocidad $\")\n",
        "plt.grid()\n",
        "plt.legend()\n"
      ],
      "execution_count": null,
      "outputs": [
        {
          "output_type": "execute_result",
          "data": {
            "text/plain": [
              "<matplotlib.legend.Legend at 0x7ff61e5ca490>"
            ]
          },
          "metadata": {},
          "execution_count": 5
        }
      ]
    },
    {
      "cell_type": "code",
      "metadata": {
        "id": "enkkA0YyAGFg"
      },
      "source": [
        "#La velocidad como función de la posición\n",
        "plt.title(\"La velocidad como función de la posición\")\n",
        "plt.plot(x_1,-v_1, label=\"$h=30km$\", color=\"aquamarine\")\n",
        "plt.plot(x_2,-v_2, label=\"$h=40km$\", color=\"rosybrown\")\n",
        "plt.plot(x_3,-v_3, label=\"$h=50km$\", color=\"sienna\")\n",
        "plt.plot(x_4,-v_4, label=\"$h=60km$\", color=\"deepskyblue\")\n",
        "plt.plot(x_5,-v_5, label=\"$h=70km$\", color=\"lightpink\")\n",
        "plt.xlabel(\"$Posición $\")\n",
        "plt.ylabel(\"$Velocidad $\")\n",
        "plt.grid()\n",
        "plt.legend()\n",
        "\n",
        "\n"
      ],
      "execution_count": null,
      "outputs": []
    },
    {
      "cell_type": "markdown",
      "metadata": {
        "id": "TKrV0BINA7VE"
      },
      "source": [
        "Determine numéricamente y analiticamente el valor de la velocidad maxima para las diferentes altura Compara su resultado con:"
      ]
    },
    {
      "cell_type": "code",
      "metadata": {
        "id": "juJeTBMEAjuP"
      },
      "source": [
        "#hallando la velocidad maxima\n",
        "\n",
        "max_1=np.max(-v_1)#para h=30km\n",
        "max_2=np.max(-v_2)#para h=40km\n",
        "max_3=np.max(-v_3)#para h=50km\n",
        "max_4=np.max(-v_4)#para h=60km\n",
        "max_5=np.max(-v_5)#para h=70km\n",
        "print(\"La velocidad maxima para h= 30km es: \", max_1)\n",
        "print(\"La velocidad maxima para h= 40km es: \", max_2)\n",
        "print(\"La velocidad maxima para h= 50km es: \", max_3)\n",
        "print(\"La velocidad maxima para h= 60km es: \", max_4)\n",
        "print(\"La velocidad maxima para h= 70km es: \", max_5)"
      ],
      "execution_count": null,
      "outputs": []
    },
    {
      "cell_type": "markdown",
      "metadata": {
        "id": "jr2aN0jtETsU"
      },
      "source": [
        "\n",
        "Realice un grafico de la velocidad maxima como función de la altura de caida."
      ]
    },
    {
      "cell_type": "code",
      "metadata": {
        "id": "HLVj_v0VBhT-"
      },
      "source": [
        "zi=[30000,40000,50000,60000,70000] #valores h de los puntos anteriores\n",
        "vi=[max_1,max_2,max_3,max_4,max_5]\n",
        "z = np.arange(10000,100000,1000)#grilla de evaluacion\n",
        "max = []#arreglo vacio\n",
        "#para hallar velocidad maxima de caida en funcion de la altura de caida\n",
        "for i in range(len(z)):\n",
        "  x=np.array([z[i],v_0])\n",
        "  y=odeint(paracaidas, x, t, args=(parametros, ) )\n",
        "  max.append(np.max(-y[:,1]))\n",
        "#graficando\n",
        "plt.plot(z,max, color=\"pink\")\n",
        "plt.title(\"Velocidad maxima como función de la altura de caida\")\n",
        "plt.xlabel(\"$Alturainicial$\")\n",
        "plt.ylabel(\"$Velocidadmaxima$\")\n",
        "plt.scatter(zi,vi, color= \"mediumorchid\", marker=\"*\")\n",
        "plt.grid()"
      ],
      "execution_count": null,
      "outputs": []
    },
    {
      "cell_type": "code",
      "metadata": {
        "id": "xNOsu7KMBmP6"
      },
      "source": [
        ""
      ],
      "execution_count": null,
      "outputs": []
    }
  ]
}