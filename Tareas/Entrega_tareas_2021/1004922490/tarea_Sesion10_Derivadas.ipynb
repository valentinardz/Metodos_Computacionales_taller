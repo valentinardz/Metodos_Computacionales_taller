{
  "nbformat": 4,
  "nbformat_minor": 0,
  "metadata": {
    "colab": {
      "name": "tarea Sesion10_Derivadas.ipynb",
      "provenance": [],
      "collapsed_sections": []
    },
    "kernelspec": {
      "name": "python3",
      "display_name": "Python 3"
    }
  },
  "cells": [
    {
      "cell_type": "markdown",
      "metadata": {
        "id": "kcYLNZbpHZ3z"
      },
      "source": [
        "Realizado por: Valentina Rodriguez hernandez"
      ]
    },
    {
      "cell_type": "code",
      "metadata": {
        "id": "P2nPTRL6kOKi"
      },
      "source": [
        "#Importar librerias\n",
        "import numpy as np\n",
        "import sympy as sp\n",
        "import scipy as sc\n",
        "import pandas as pd\n",
        "from scipy.misc import derivative\n",
        "from sympy import init_printing\n",
        "import matplotlib.pylab as plt\n",
        "from scipy import misc\n",
        "from scipy.fft import fft, fftfreq\n",
        "from scipy.interpolate import CubicSpline\n",
        "from scipy import optimize\n",
        "init_printing() "
      ],
      "execution_count": 69,
      "outputs": []
    },
    {
      "cell_type": "markdown",
      "metadata": {
        "id": "pBgX4KV08EEw"
      },
      "source": [
        "# Tarea Derivada\n",
        "\n",
        "Los siguientes datos, son datos experimentales de un péndulo simple tomadas a través de una cámara web y procesados con el programa kinovea. Dados los datos en formato csv, se pide  construir un programa que realice lo siguiente: \n",
        "\n",
        "1. Leer el archivo csv a través de un Data Frame de Pandas, las columnas del data frame deberan ser:\n",
        "\n",
        "col=[\"Tiempo[ms]\", \"AnguloDeg\", \"AnguloRad\"]\n",
        "\n",
        "2. Construya una grafica de :\n",
        "plt.plot(df['Tiempo[ms]'], df['AnguloDeg'],\"b-\")\n",
        "\n",
        "¿Qué puede concluir respecto al movimiento del pendulo?\n",
        "\n",
        "\n",
        "3. Calculo la transformada de fourier de los datos obtenidos, para encontrar la frecuencia de oscilacion del sistema, para ello realice lo siguiente:\n",
        "\n",
        "- importe la librerias de scipy fft, fftfreq.\n",
        "- Aplique la transformada de fourier como sigue:\n",
        "\n",
        "```\n",
        "tf = fft(df['AnguloRad'].values)\n",
        "T = 33E-3 #Paso del tiempo\n",
        "N = len(df['Tiempo[ms]'])\n",
        "xf = fftfreq(N, T)[:N//2]\n",
        "\n",
        "plt.plot(xf[1:N//2], np.abs(tf[1:N//2]),\"o-\")\n",
        "plt.ylabel(\"TF\")\n",
        "plt.xlabel(\"Frecuencia\")\n",
        "plt.xlim(0, 2)\n",
        "\n",
        "```\n",
        "\n",
        "-  Para las valores en el eje x y eje y de la anterior gráfica, realice una interpolación. \n",
        "\n",
        "- Encuentra el valor máximo empleando metodos de diferenciación.\n",
        "\n",
        "\n",
        "\n",
        "\n",
        "\n"
      ]
    },
    {
      "cell_type": "code",
      "metadata": {
        "id": "TeqNmFGqG3TW"
      },
      "source": [
        "#Lectura del archivo\n",
        "route = \"https://docs.google.com/spreadsheets/d/e/2PACX-1vT8btHZ-A6ChzV5Rx_CQmCzbhO10J7R6LvQAyHx9qOCoCDAL9RJgaGUATf2z5lTMo-SjByvrnaX02Cz/pub?output=csv\"\n",
        "df = pd.read_csv(route,\";\")"
      ],
      "execution_count": 70,
      "outputs": []
    },
    {
      "cell_type": "code",
      "metadata": {
        "id": "e1WzA7aPHFH7"
      },
      "source": [
        "col = [\"Tiempo[ms]\", \"AnguloDeg\", \"AnguloRad\"]\n"
      ],
      "execution_count": 71,
      "outputs": []
    },
    {
      "cell_type": "code",
      "metadata": {
        "colab": {
          "base_uri": "https://localhost:8080/",
          "height": 419
        },
        "id": "tb4CwYCEUifF",
        "outputId": "e260ba1c-553f-452f-c289-9f9a321ac05c"
      },
      "source": [
        "#Renombrar las columnas del df\n",
        "df = df.rename(columns = {'Tiempo (ms)':\"Tiempo[ms]\", 'Ángulo 1,':'AnguloDeg'})\n",
        "df"
      ],
      "execution_count": 72,
      "outputs": [
        {
          "output_type": "execute_result",
          "data": {
            "text/html": [
              "<div>\n",
              "<style scoped>\n",
              "    .dataframe tbody tr th:only-of-type {\n",
              "        vertical-align: middle;\n",
              "    }\n",
              "\n",
              "    .dataframe tbody tr th {\n",
              "        vertical-align: top;\n",
              "    }\n",
              "\n",
              "    .dataframe thead th {\n",
              "        text-align: right;\n",
              "    }\n",
              "</style>\n",
              "<table border=\"1\" class=\"dataframe\">\n",
              "  <thead>\n",
              "    <tr style=\"text-align: right;\">\n",
              "      <th></th>\n",
              "      <th>Tiempo[ms]</th>\n",
              "      <th>AnguloDeg</th>\n",
              "    </tr>\n",
              "  </thead>\n",
              "  <tbody>\n",
              "    <tr>\n",
              "      <th>0</th>\n",
              "      <td>9</td>\n",
              "      <td>59,289611816406</td>\n",
              "    </tr>\n",
              "    <tr>\n",
              "      <th>1</th>\n",
              "      <td>42</td>\n",
              "      <td>59,9823265075684</td>\n",
              "    </tr>\n",
              "    <tr>\n",
              "      <th>2</th>\n",
              "      <td>75</td>\n",
              "      <td>61,2374534606934</td>\n",
              "    </tr>\n",
              "    <tr>\n",
              "      <th>3</th>\n",
              "      <td>108</td>\n",
              "      <td>63,49247741699</td>\n",
              "    </tr>\n",
              "    <tr>\n",
              "      <th>4</th>\n",
              "      <td>142</td>\n",
              "      <td>65,3887710571289</td>\n",
              "    </tr>\n",
              "    <tr>\n",
              "      <th>...</th>\n",
              "      <td>...</td>\n",
              "      <td>...</td>\n",
              "    </tr>\n",
              "    <tr>\n",
              "      <th>2842</th>\n",
              "      <td>94709</td>\n",
              "      <td>94,9375762939453</td>\n",
              "    </tr>\n",
              "    <tr>\n",
              "      <th>2843</th>\n",
              "      <td>94743</td>\n",
              "      <td>96,479850769043</td>\n",
              "    </tr>\n",
              "    <tr>\n",
              "      <th>2844</th>\n",
              "      <td>94776</td>\n",
              "      <td>97,9406890869141</td>\n",
              "    </tr>\n",
              "    <tr>\n",
              "      <th>2845</th>\n",
              "      <td>94809</td>\n",
              "      <td>99,3180923461914</td>\n",
              "    </tr>\n",
              "    <tr>\n",
              "      <th>2846</th>\n",
              "      <td>94843</td>\n",
              "      <td>100,637817382813</td>\n",
              "    </tr>\n",
              "  </tbody>\n",
              "</table>\n",
              "<p>2847 rows × 2 columns</p>\n",
              "</div>"
            ],
            "text/plain": [
              "      Tiempo[ms]         AnguloDeg\n",
              "0              9   59,289611816406\n",
              "1             42  59,9823265075684\n",
              "2             75  61,2374534606934\n",
              "3            108    63,49247741699\n",
              "4            142  65,3887710571289\n",
              "...          ...               ...\n",
              "2842       94709  94,9375762939453\n",
              "2843       94743   96,479850769043\n",
              "2844       94776  97,9406890869141\n",
              "2845       94809  99,3180923461914\n",
              "2846       94843  100,637817382813\n",
              "\n",
              "[2847 rows x 2 columns]"
            ]
          },
          "metadata": {},
          "execution_count": 72
        }
      ]
    },
    {
      "cell_type": "code",
      "metadata": {
        "id": "qnC4uNaZKIGz"
      },
      "source": [
        "#Se remplaza la ',' por '.', esto para buscar cambiar el formato str a float\n",
        "df[\"AnguloDeg\"] = df[\"AnguloDeg\"].str.replace(\",\", \".\").astype(\"float64\") #se pasa de string a float"
      ],
      "execution_count": 73,
      "outputs": []
    },
    {
      "cell_type": "code",
      "metadata": {
        "id": "tVfn_E8nLRRN"
      },
      "source": [
        "#En la columna AnguloDeg\n",
        "df[\"AnguloRad\"] = np.deg2rad(df[\"AnguloDeg\"].values )#se pasa de string a float"
      ],
      "execution_count": 74,
      "outputs": []
    },
    {
      "cell_type": "code",
      "metadata": {
        "id": "xlvt1wQqLRvc",
        "colab": {
          "base_uri": "https://localhost:8080/"
        },
        "outputId": "d68045c8-bed1-45d5-cf53-138a9af40daf"
      },
      "source": [
        "#Creación de una columna de angulo radian \n",
        "df[\"AnguloRad\"] = df[\"AnguloRad\"] - np.pi/2 #Se introduce el df\n",
        "print(df[\"AnguloRad\"])"
      ],
      "execution_count": 75,
      "outputs": [
        {
          "output_type": "stream",
          "name": "stdout",
          "text": [
            "0      -0.535997\n",
            "1      -0.523907\n",
            "2      -0.502001\n",
            "3      -0.462644\n",
            "4      -0.429547\n",
            "          ...   \n",
            "2842    0.086177\n",
            "2843    0.113095\n",
            "2844    0.138591\n",
            "2845    0.162631\n",
            "2846    0.185665\n",
            "Name: AnguloRad, Length: 2847, dtype: float64\n"
          ]
        }
      ]
    },
    {
      "cell_type": "markdown",
      "metadata": {
        "id": "vov-gVyfx7T_"
      },
      "source": [
        "2. Construya una grafica de : plt.plot(df['Tiempo[ms]'], df['AnguloDeg'],\"b-\")"
      ]
    },
    {
      "cell_type": "code",
      "metadata": {
        "id": "p9F3PLJALfxh",
        "colab": {
          "base_uri": "https://localhost:8080/",
          "height": 297
        },
        "outputId": "3c360128-6fb4-44eb-f6db-ec701a3a25ee"
      },
      "source": [
        "#Gráfica Ángulo  vs Tiempo en grados\n",
        "plt.figure()\n",
        "plt.plot(df[\"Tiempo[ms]\"], df[\"AnguloRad\"], color=\"gold\")\n",
        "plt.xlim(0, 30000 )\n",
        "plt.title(\"Ángulo  vs Tiempo\")\n",
        "plt.xlabel(\"Tiempo [Ms]\")\n",
        "plt.ylabel(\"Ángulo [Radianes]\")\n",
        "plt.grid()"
      ],
      "execution_count": 76,
      "outputs": [
        {
          "output_type": "display_data",
          "data": {
            "image/png": "[encoded data removed]",
            "text/plain": [
              "<Figure size 432x288 with 1 Axes>"
            ]
          },
          "metadata": {
            "needs_background": "light"
          }
        }
      ]
    },
    {
      "cell_type": "markdown",
      "metadata": {
        "id": "9Q1BPZ15yEMg"
      },
      "source": [
        "Por la grafica se observa que es un pendulo amortiguado ya que a medida de que transcurre el tiempo el angulo va disminuyendo hasta llegar a 0, por tanto esta perdiendo energia."
      ]
    },
    {
      "cell_type": "markdown",
      "metadata": {
        "id": "nIO2J8mNysQQ"
      },
      "source": [
        "3. Calculo la transformada de fourier de los datos obtenidos, para encontrar la frecuencia de oscilacion del sistema, para ello realice lo siguiente:\n"
      ]
    },
    {
      "cell_type": "code",
      "metadata": {
        "id": "wLgV5RziLn8o",
        "colab": {
          "base_uri": "https://localhost:8080/",
          "height": 295
        },
        "outputId": "dabfbf12-abd9-494c-d6de-bb1fc847715c"
      },
      "source": [
        "plt.title(\"Transformada de fourier rapida\")\n",
        "tf = fft(df['AnguloRad'].values) #Realizacion de la transformada rapida de fourier \n",
        "T = 33E-3 #Paso del tiempo\n",
        "N = len(df['Tiempo[ms]']) #Longitud del tiempo\n",
        "xf = fftfreq(N, T)[:N//2] #frecuencia\n",
        "#Graficación\n",
        "plt.plot(xf[1:N//2], np.abs(tf[1:N//2]),\"o-\")\n",
        "plt.ylabel(\"TF\")\n",
        "plt.xlabel(\"Frecuencia\")\n",
        "plt.xlim(0.6, 0.75)\n",
        "plt.grid()"
      ],
      "execution_count": 77,
      "outputs": [
        {
          "output_type": "display_data",
          "data": {
            "image/png": "[encoded data removed]",
            "text/plain": [
              "<Figure size 432x288 with 1 Axes>"
            ]
          },
          "metadata": {
            "needs_background": "light"
          }
        }
      ]
    },
    {
      "cell_type": "code",
      "metadata": {
        "id": "UBNzNonNQFBj",
        "colab": {
          "base_uri": "https://localhost:8080/",
          "height": 295
        },
        "outputId": "41dcad3f-22e2-4252-e77c-240ad0cc43e2"
      },
      "source": [
        "#interpolacion a los datos de la transformada\n",
        "cs = CubicSpline(xf[1:N//2], np.abs(tf[1:N//2]))\n",
        "#Graficación\n",
        "plt.plot(xf[1:N//2], np.abs(tf[1:N//2]),\"r.\")\n",
        "plt.plot(abs(xf[1:N//2]), abs(cs(xf[1:N//2])), color=\"aqua\" ) \n",
        "plt.xlim(0.25, 1)\n",
        "plt.title(\"interpolación\")\n",
        "plt.ylabel(\"Transformada de Fourier\")\n",
        "plt.xlabel(\"Frecuencia\")\n",
        "plt.grid()\n"
      ],
      "execution_count": 94,
      "outputs": [
        {
          "output_type": "display_data",
          "data": {
            "image/png": "[encoded data removed]",
            "text/plain": [
              "<Figure size 432x288 with 1 Axes>"
            ]
          },
          "metadata": {
            "needs_background": "light"
          }
        }
      ]
    },
    {
      "cell_type": "code",
      "metadata": {
        "id": "o0xqzvEySlAI",
        "colab": {
          "base_uri": "https://localhost:8080/"
        },
        "outputId": "4b8d6588-0d35-49cb-d66b-c6d7bbe39643"
      },
      "source": [
        "#maximo con fmil_powel\n",
        "cs = CubicSpline(xf[1:N//2], -np.abs(tf[1:N//2])) #Funcion interpolacion de la transformada rapida\n",
        "# Máximo de la función cs y mínimo de cs1\n",
        "min = optimize.fmin_powell(cs, 0.2)\n",
        "print(\"valor máximo de TF: \", abs(cs(min)))\n",
        "print(\"frecuencia en que ocurre el máximo de cs y el mínimo de cs1\", min) #frecuencia con la que el pendulo se mueve "
      ],
      "execution_count": 101,
      "outputs": [
        {
          "output_type": "stream",
          "name": "stdout",
          "text": [
            "Optimization terminated successfully.\n",
            "         Current function value: -417.867925\n",
            "         Iterations: 2\n",
            "         Function evaluations: 44\n",
            "valor máximo de TF:  417.86792463131843\n",
            "frecuencia en que ocurre el máximo de cs y el mínimo de cs1 0.6715600030592099\n"
          ]
        }
      ]
    },
    {
      "cell_type": "code",
      "metadata": {
        "id": "s4_3FOfOTu-W",
        "colab": {
          "base_uri": "https://localhost:8080/"
        },
        "outputId": "299be895-ba81-442a-fc00-8a0ecf0507aa"
      },
      "source": [
        "#valor de la frcuencia maxima\n",
        "print(\"La frecuencia maxima es: \", abs(cs(0.67156)))"
      ],
      "execution_count": 103,
      "outputs": [
        {
          "output_type": "stream",
          "name": "stdout",
          "text": [
            "La frecuencia maxima es:  417.86792463128836\n"
          ]
        }
      ]
    },
    {
      "cell_type": "markdown",
      "metadata": {
        "id": "gREZGmpmK3Ub"
      },
      "source": [
        "Otra manera de hallar la frecuencia maxima de la transformada rapida de Fourier "
      ]
    },
    {
      "cell_type": "code",
      "metadata": {
        "colab": {
          "base_uri": "https://localhost:8080/",
          "height": 312
        },
        "id": "5WG6V3kum6T1",
        "outputId": "c6273db0-2a78-408d-cccc-635d346f1c1e"
      },
      "source": [
        "#se halla la derivada puesto que cuando la derivada es igual a 0 esta es o un maximo o un minimo\n",
        "cs = CubicSpline(xf[1:N//2], np.abs(tf[1:N//2])) #Funcion interpolacion de la transformada rapida\n",
        "x = np.linspace(0.6,0.7,5000)#funcion para evaluar\n",
        "derivada = derivate(cs, x , dx = 1E-8)#Derivacion de la Funcion interpolacion de la transformada rapida\n",
        "#Graficación\n",
        "plt.title(\"Transformada rapida de fourier\")\n",
        "plt.plot(x,derivada, label = 'Derivada')#Grafica derivada\n",
        "plt.plot(abs(xf[1:N//2]), abs(cs(xf[1:N//2])), color=\"pink\", label = \"Interpolación de la transformada\")#interpolacion de la transformada rapida\n",
        "#zoom\n",
        "plt.xlim(0.6,0.7)\n",
        "plt.ylim(-100,500)\n",
        "plt.grid()#cuadricula\n",
        "#Nombre ejes\n",
        "plt.ylabel(\"Transformada de Fourier\")\n",
        "plt.xlabel(\"Frecuencia\")\n",
        "plt.legend()"
      ],
      "execution_count": 98,
      "outputs": [
        {
          "output_type": "execute_result",
          "data": {
            "text/plain": [
              "<matplotlib.legend.Legend at 0x7f0c6a6d0110>"
            ]
          },
          "metadata": {},
          "execution_count": 98
        },
        {
          "output_type": "display_data",
          "data": {
            "image/png": "[encoded data removed]",
            "text/plain": [
              "<Figure size 432x288 with 1 Axes>"
            ]
          },
          "metadata": {
            "needs_background": "light"
          }
        }
      ]
    },
    {
      "cell_type": "code",
      "metadata": {
        "colab": {
          "base_uri": "https://localhost:8080/"
        },
        "id": "GbY13xplm_jc",
        "outputId": "5f173176-a005-4ac7-b810-89d119ca0f7e"
      },
      "source": [
        "#interpolacion en puntos de la derivda\n",
        "d = CubicSpline(t, q)\n",
        "#imprimir los ceros de la derivada para asi hallar el maximos o minimos de la frecuencia\n",
        "d.roots()"
      ],
      "execution_count": 87,
      "outputs": [
        {
          "output_type": "execute_result",
          "data": {
            "text/plain": [
              "array([-3.14649254,  0.58350876,  0.67156   ])"
            ]
          },
          "metadata": {},
          "execution_count": 87
        }
      ]
    },
    {
      "cell_type": "code",
      "metadata": {
        "id": "Yp0nDcNknDMW",
        "colab": {
          "base_uri": "https://localhost:8080/"
        },
        "outputId": "d87a89e5-8de8-4650-bdcd-286c25f65959"
      },
      "source": [
        "#evaluar en el valor 0.6716 puesto que por la imagen es el maximo que necesitamos evaluar para hallar la frecuencia\n",
        "print(\"La frecuencia maxima es: \", abs(cs(cs2.roots()[2])))\n"
      ],
      "execution_count": 99,
      "outputs": [
        {
          "output_type": "stream",
          "name": "stdout",
          "text": [
            "La frecuencia maxima es:  417.86792463131843\n"
          ]
        }
      ]
    }
  ]
}