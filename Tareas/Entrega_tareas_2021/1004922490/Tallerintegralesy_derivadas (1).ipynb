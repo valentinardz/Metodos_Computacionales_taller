{
  "nbformat": 4,
  "nbformat_minor": 0,
  "metadata": {
    "colab": {
      "name": "Tallerintegralesy derivadas.ipynb",
      "provenance": [],
      "collapsed_sections": []
    },
    "kernelspec": {
      "display_name": "Python 3",
      "name": "python3"
    },
    "language_info": {
      "name": "python"
    }
  },
  "cells": [
    {
      "cell_type": "code",
      "metadata": {
        "id": "hEn56iF5iOLL"
      },
      "source": [
        "#librerias==============================================================\n",
        "\n",
        "import numpy as np\n",
        "from scipy.interpolate import CubicSpline\n",
        "import sympy as sp\n",
        "import scipy as sc\n",
        "from scipy import optimize\n",
        "import pandas as pd\n",
        "from scipy.misc import derivative\n",
        "from sympy import init_printing\n",
        "import matplotlib.pylab as plt\n",
        "init_printing() \n",
        "import scipy.interpolate as interpolate\n",
        "import scipy.integrate as integrate\n",
        "from scipy.integrate import quad"
      ],
      "execution_count": null,
      "outputs": []
    },
    {
      "cell_type": "markdown",
      "metadata": {
        "id": "PL_v8yd-hTpN"
      },
      "source": [
        "#1.0 Derivadas"
      ]
    },
    {
      "cell_type": "markdown",
      "metadata": {
        "id": "Bct2t6S1j2of"
      },
      "source": [
        "El metodo Smoothed-particle hydrodynamics (SPH) es un método computacional utilizado para simular la dinámica de medios continuos, tales como la mecánica de sólidos y los flujos de fluido. En este metodo se emplean diferentes kernel de aproximación para calcular las propiedades del fluído en cada punto del espacio. Uno de ellos es el Kernel de Lucy detallado a continuación:"
      ]
    },
    {
      "cell_type": "markdown",
      "metadata": {
        "id": "kbKsZqZJj6VO"
      },
      "source": [
        "$W(R,h)=\\alpha_d\\{\\frac{(1+3R)(1-R)^3}{0}$"
      ]
    },
    {
      "cell_type": "markdown",
      "metadata": {
        "id": "5ywWmVxVj9sv"
      },
      "source": [
        "$R=\\frac{r}{h}=\\frac{||r-r'||}{h}$"
      ]
    },
    {
      "cell_type": "markdown",
      "metadata": {
        "id": "AGUL2pg6kBad"
      },
      "source": [
        "Se divide el fluido en un conjunto de elementos discretos, (partículas)\n",
        "separadas una distancia espacial conocida como \"longitud de suavizado\" (h)\n",
        "\n",
        "\n",
        "**$r$** es el vector posción de la particula central, **$r'$** el vector posición de la particula vecina."
      ]
    },
    {
      "cell_type": "markdown",
      "metadata": {
        "id": "G0Qy7V_qvO8q"
      },
      "source": [
        "##Kernel de Lucy 1D"
      ]
    },
    {
      "cell_type": "code",
      "metadata": {
        "id": "7eWYPaxViYYw"
      },
      "source": [
        "#tomando cada particula del fluido como un vector en una dimension\n",
        "def R(r0,r,h):\n",
        "  r=r0-r     #vector \n",
        "  r1=abs(r)  # modulo del vector r\n",
        "  R=r1/h\n",
        "  return R\n",
        "\n",
        "def W(R,h):\n",
        "  a=5/np.pi*h**2\n",
        "  if 0<=R and R<=1:\n",
        "    q=a*(1+3*R)*(1-R)**3\n",
        "  else:\n",
        "    q=0\n",
        "  return q"
      ],
      "execution_count": null,
      "outputs": []
    },
    {
      "cell_type": "code",
      "metadata": {
        "id": "2ZbBz501iflq"
      },
      "source": [
        "r0=0                       # vector posicion de la particula de referencia\n",
        "h=2                        #longitud de suavizado\n",
        "x = np.linspace(-1, 1,30 ) #conjunto de vectores vecinos\n",
        "\n"
      ],
      "execution_count": null,
      "outputs": []
    },
    {
      "cell_type": "code",
      "metadata": {
        "id": "bCU6dhfFih7J"
      },
      "source": [
        "valR=R(r0,x,h)# array de los valores de la funcion R evaluado en las \n",
        "              #posiciones de las particulas vecinas"
      ],
      "execution_count": null,
      "outputs": []
    },
    {
      "cell_type": "code",
      "metadata": {
        "id": "VzTD5EycikJB"
      },
      "source": [
        "valW=np.zeros(len(valR)) #array donde se guarga el valor de W\n",
        "\n",
        "for i in range(len(valR)): # evalua W en cada punto obtenido en la funcion R\n",
        "  valW[i]=W(valR[i],h)"
      ],
      "execution_count": null,
      "outputs": []
    },
    {
      "cell_type": "code",
      "metadata": {
        "colab": {
          "base_uri": "https://localhost:8080/",
          "height": 587
        },
        "id": "f2kIF7nvimy5",
        "outputId": "5dc6180f-3d40-459b-9ea3-9f08cd8ed535"
      },
      "source": [
        "#grafico del kernel=========================================================================\n",
        "\n",
        "plt.figure(figsize=(12,9))\n",
        "plt.xlabel('$x$')\n",
        "plt.ylabel('$W(R,h)$')\n",
        "plt.title(\"$Lucy's Quartic Kernel  2D$\")\n",
        "plt.plot(x,valW)\n"
      ],
      "execution_count": null,
      "outputs": [
        {
          "data": {
            "text/plain": [
              "[<matplotlib.lines.Line2D at 0x7f2a2a52ca90>]"
            ]
          },
          "execution_count": 6,
          "metadata": {},
          "output_type": "execute_result"
        },
        {
          "data": {
            "image/png": "[encoded data removed]",
            "text/plain": [
              "<Figure size 864x648 with 1 Axes>"
            ]
          },
          "metadata": {},
          "output_type": "display_data"
        }
      ]
    },
    {
      "cell_type": "code",
      "metadata": {
        "id": "VM9rOh3tiqWb"
      },
      "source": [
        "#funcion para encontrar la derivada \n",
        "derivada = np.vectorize(derivative ) #Convierte derivative en una función numpy"
      ],
      "execution_count": null,
      "outputs": []
    },
    {
      "cell_type": "code",
      "metadata": {
        "id": "9LKKnY0eis_4"
      },
      "source": [
        "#Con valW y x tenemos los puntos de la grafica del kernel\n",
        "\n",
        "FW= CubicSpline(x,valW)       #Función que interpola los puntos\n",
        "DW=derivada(FW,x,dx=0.0001)   #puntos de la derivada de w"
      ],
      "execution_count": null,
      "outputs": []
    },
    {
      "cell_type": "code",
      "metadata": {
        "colab": {
          "base_uri": "https://localhost:8080/",
          "height": 587
        },
        "id": "tMYSwFbCivEy",
        "outputId": "20ca564d-1413-4cdc-f3d4-190ed66711e3"
      },
      "source": [
        "#grafico de la derivada del kernell=============================================\n",
        "\n",
        "plt.figure(figsize=(12,9))\n",
        "plt.xlabel('$x$')\n",
        "plt.ylabel(\"$W'(R,h)$\")\n",
        "plt.title(\"$Lucy's Kernel Derivative 2D$\")\n",
        "plt.plot(x,DW)\n"
      ],
      "execution_count": null,
      "outputs": [
        {
          "data": {
            "text/plain": [
              "[<matplotlib.lines.Line2D at 0x7f2a26f4db10>]"
            ]
          },
          "execution_count": 9,
          "metadata": {},
          "output_type": "execute_result"
        },
        {
          "data": {
            "image/png": "[encoded data removed]",
            "text/plain": [
              "<Figure size 864x648 with 1 Axes>"
            ]
          },
          "metadata": {},
          "output_type": "display_data"
        }
      ]
    },
    {
      "cell_type": "markdown",
      "metadata": {
        "id": "vvBPfLXcmhu_"
      },
      "source": [
        "##Kernel de Lucy 2D\n",
        "\n",
        "Tomando cada particula del fluido como un vector en dos dimensiones"
      ]
    },
    {
      "cell_type": "code",
      "metadata": {
        "id": "-8n_0v65i0fh"
      },
      "source": [
        "def R(r0,r,h):\n",
        "  r=r0-r                       #vector \n",
        "  r1=np.sqrt(r[:,0]**2+r[:,1]**2)  # modulo del vector r, distancia entre r y r'\n",
        "  R=r1/h\n",
        "  return R\n",
        "\n",
        "@np.vectorize\n",
        "def W(R,h):\n",
        "  a=105/16*np.pi*h**3\n",
        "  if 0<=R and R<=1:\n",
        "    q=a*(1+3*R)*(1-R)**3\n",
        "  else:\n",
        "    q=0\n",
        "  return q"
      ],
      "execution_count": null,
      "outputs": []
    },
    {
      "cell_type": "code",
      "metadata": {
        "colab": {
          "base_uri": "https://localhost:8080/",
          "height": 248
        },
        "id": "H72mYM-skgtA",
        "outputId": "79bc9e82-bbb5-40e7-f311-d965399ffd79"
      },
      "source": [
        "\n",
        "r0=np.array([0,0])\n",
        "h=2\n",
        "# Make data.\n",
        "X = np.linspace(-3, 3,100)\n",
        "Y = np.linspace(-3, 3, 100)\n",
        "X, Y = np.meshgrid(X, Y)\n",
        "r1=np.sqrt(X**2+Y**2)  # modulo del vector r, distancia entre r y r'\n",
        "R=r1/h\n",
        "Z=W(R,h)\n",
        "\n",
        "\n",
        "import matplotlib.pyplot as plt\n",
        "from matplotlib import cm\n",
        "from matplotlib.ticker import LinearLocator\n",
        "import numpy as np\n",
        "\n",
        "fig, ax = plt.subplots(subplot_kw={\"projection\": \"3d\"})\n",
        "surf = ax.plot_surface(X, Y, Z, cmap=cm.coolwarm,\n",
        "                       linewidth=0, antialiased=False)"
      ],
      "execution_count": null,
      "outputs": [
        {
          "data": {
            "image/png": "[encoded data removed]",
            "text/plain": [
              "<Figure size 432x288 with 1 Axes>"
            ]
          },
          "metadata": {},
          "output_type": "display_data"
        }
      ]
    },
    {
      "cell_type": "markdown",
      "metadata": {
        "id": "TSC-_D5_hauM"
      },
      "source": [
        "#2.0 Integración\n",
        "##Métodos de integración"
      ]
    },
    {
      "cell_type": "markdown",
      "metadata": {
        "id": "tfxPauIj81EP"
      },
      "source": [
        "###Regla del trapecio\n",
        "\n",
        "Tenemos dos puntos $[x_0,x_1]$ y conocemos el valor de $f(x)$ en estos. Se aproxima la funcion con un polinomio lineal de Lagrange dado por:\n",
        "\n",
        "$$P_1(x) = \\frac{(x-x_1)}{x_0-x_1}f(x_0) + \\frac{(x-x_0)}{(x_1-x_0)}f(x_1)$$"
      ]
    },
    {
      "cell_type": "markdown",
      "metadata": {
        "id": "nGKuXvARqYau"
      },
      "source": [
        "![9667a0c6-e0dc-4ab5-bd91-b89d0ea6cf41.jpg](data:image/jpeg;base64,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)"
      ]
    },
    {
      "cell_type": "markdown",
      "metadata": {
        "id": "a3aAimxdL915"
      },
      "source": [
        " Error de aproximación del polinomio$$\\frac{1}{2}f^{''}(\\xi)(x-x_0)(x-x_1)$$"
      ]
    },
    {
      "cell_type": "markdown",
      "metadata": {
        "id": "oerTJD9pnpbc"
      },
      "source": [
        "Intengrando el polinomio"
      ]
    },
    {
      "cell_type": "markdown",
      "metadata": {
        "id": "rnv4f0ck99jw"
      },
      "source": [
        "$$\\int_{x_0}^{x_1}f(x)dx \\approx\\int_{x_0}^{x_1} \\frac{(x-x_1)}{x_0-x_1}f(x_0) + \\frac{(x-x_0)}{(x_1-x_0)}f(x_1)  dx$$"
      ]
    },
    {
      "cell_type": "markdown",
      "metadata": {
        "id": "rjBGtu0D-eD4"
      },
      "source": [
        "$$\\int_{x_0}^{x_1}f(x)dx \\approx \\frac{f(x_0)}{x_0-x_1}\\int_{x_0}^{x_1} (x-x_1)dx + \\frac{f(x_1)}{(x_1-x_0)}\\int_{x_0}^{x_1}(x-x_0) dx$$"
      ]
    },
    {
      "cell_type": "markdown",
      "metadata": {
        "id": "n5pXlSY_Oi6y"
      },
      "source": [
        "$$\\int_{x_0}^{x_1}f(x)dx\\approx\\frac{f(x_0)}{2(x_0-x_1)}\\left[(x-x_1)^2\\right]+ \\frac{f(x_1)}{2(x_1-x_0)}(x-x_0)^2 $$"
      ]
    },
    {
      "cell_type": "markdown",
      "metadata": {
        "id": "GDSOQlY88mwB"
      },
      "source": [
        "\n",
        "\n",
        "$$\\int_{x_0}^{x_1}f(x)dx \\approx \\frac{h}{2}[ f(x_0) + f(x_1) ]$$\n",
        "\n",
        "con $\\xi \\in [x_0, x_1]$ y $h = x_1-x_0$."
      ]
    },
    {
      "cell_type": "markdown",
      "metadata": {
        "id": "gZeNMBQGn2FO"
      },
      "source": [
        "Intengrando el error"
      ]
    },
    {
      "cell_type": "markdown",
      "metadata": {
        "id": "rr7cRlf5RcRl"
      },
      "source": [
        "$$\n",
        "\\int_{x_0}^{x_1} f''(\\xi(x))(x-x_0)(x-x_1) \\, dx = f''(\\xi(x))\\int_{x_0}^{x_1} (x-x_0)(x-x_1) \\, dx\n",
        "$$\n",
        "$$ = f''\\xi(x) [\\frac{x^3}{3}-\\frac{(x_1+x_0)}{2}x^2+x_0x_1x]^{x_1}_{x_0} $$\n",
        "$$= -\\frac{h^3}{6}f''(\\xi) $$"
      ]
    },
    {
      "cell_type": "markdown",
      "metadata": {
        "id": "0pHkIQqEimTN"
      },
      "source": [
        "####Generalización del método"
      ]
    },
    {
      "cell_type": "markdown",
      "metadata": {
        "id": "REl979x041Is"
      },
      "source": [
        "Se generaliza el metodo, buscando la integral de una funcion $f$ cuya gráfica pasa por los puntos  $(x_0,f(x_0)),(x_1,f(x_1)),...,(x_i,f(x_i)), ..., (x_{n-1},f(x_{n-1}))$"
      ]
    },
    {
      "cell_type": "markdown",
      "metadata": {
        "id": "jJavqEAcqkYo"
      },
      "source": [
        "![trapeciointegracion.jpg](data:image/jpeg;base64,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)"
      ]
    },
    {
      "cell_type": "markdown",
      "metadata": {
        "id": "puVyz6K11-t2"
      },
      "source": [
        "El mismo proceso anterior se hace para obtener la integral aproximada entre cada dos puntos sucesivos $ x_i$ y $x_{i+1}$. Entonces la integral total aproximada desde el punto $x_1$ al punto $x_{n-1}$ corresponde a la suma de todas las areas obtenidas en el paso anterior. "
      ]
    },
    {
      "cell_type": "markdown",
      "metadata": {
        "id": "hU_b-xe73Uvk"
      },
      "source": [
        "\n",
        "$$\\int_{x_i}^{x_{i+1}}f(x)dx \\approx  \\frac{h}{2}[ f(x_i) + f(x_{i+1}) ]-\\frac{h^3}{12}f^{''}(\\xi)$$\n",
        "\n",
        "con $\\xi \\in [x_0, x_1]$ y $h = x_1-x_0$."
      ]
    },
    {
      "cell_type": "markdown",
      "metadata": {
        "id": "-twHtDKY38Xe"
      },
      "source": [
        "$$\\sum_{i=0}^{N-1}  \\int_{i}^{x_{i+1}} f(x)\\,dx\n",
        "  \\approx   \\frac{h}{2} \\sum_{i=0}^{N-1}(f(x_i)+f(x_{i+1})) \n",
        "    - \\frac{(b-a) h^2}{12}f''(\\xi),\n",
        "  $$\n"
      ]
    },
    {
      "cell_type": "markdown",
      "metadata": {
        "id": "Aj3H1iPL4XP8"
      },
      "source": [
        "$$\n",
        "  \\int_{a}^{b} f(x)\\,dx \n",
        "  \\approx   \\frac{h}{2} \\sum_{i=0}^{N-1}(f(x_i)+f(x_{i+1})) \n",
        "    - \\frac{(b-a) h^2}{12}f''(\\xi),\n",
        "  $$\n",
        "\n",
        "donde $\\xi\\in [b,a]$, $h=a-b$"
      ]
    },
    {
      "cell_type": "markdown",
      "metadata": {
        "id": "WoMyoSffEsiR"
      },
      "source": [
        "Se generaliza el metodo de interpolacion, construyendo un polinomio lineal que pase por los puntos  $(x_0,f(x_0)),(x_1,f(x_1)),...,(x_i,f(x_i)), ..., (x_{n-1},f(x_{n-1}))$"
      ]
    },
    {
      "cell_type": "markdown",
      "metadata": {
        "id": "Z9-jNA_hikBD"
      },
      "source": [
        "$$\n",
        "  \\int_{a}^{b} f(x)\\,dx \n",
        "  = \\sum_{i=0}^{N-1}  \\int_{i}^{x_{i+1}} f(x)\\,dx\n",
        "  =  \\frac{h}{2} \\sum_{i=0}^{N-1}(f(x_i)+f(x_{i+1})) \n",
        "    - \\frac{(b-a) h^2}{12}f''(\\xi),\n",
        "  $$\n",
        "\n",
        "donde $\\xi\\in [b,a]$, $h=a-b$"
      ]
    },
    {
      "cell_type": "markdown",
      "metadata": {
        "id": "Qg-OplMK_gCE"
      },
      "source": [
        "$$\n",
        "  \\int_{a}^{b} f(x)\\,dx \n",
        "  = \\sum_{i=0}^{N-1}  \\int_{i}^{x_{i+1}} f(x)\\,dx\n",
        "  =  \\frac{h}{2} \\sum_{i=0}^{N-1}(f(x_i)+f(x_{i+1})) \n",
        "    - \\frac{(b-a) h^2}{12}f''(\\xi),\n",
        "  $$\n",
        "\n",
        "donde $\\xi\\in [b,a]$, $h=a-b$"
      ]
    },
    {
      "cell_type": "markdown",
      "metadata": {
        "id": "a6GCeiLf5cnF"
      },
      "source": [
        "###Regla de Simpson"
      ]
    },
    {
      "cell_type": "markdown",
      "metadata": {
        "id": "vVL0onXK90iz"
      },
      "source": [
        "Para la regla de Simpson se interpola la funcion con tres puntos  $(x_i,f(x_i)),(x_{i+1},f(x_{i+1})),(x_{i+2},f(x_{i+2}))$usando el segundo polinomio de interpolación de Lagrange."
      ]
    },
    {
      "cell_type": "markdown",
      "metadata": {
        "id": "LjYglUyE8LGF"
      },
      "source": [
        "\n",
        " En general, la regla de simpson es\n",
        " \n",
        "$$\n",
        " \\int_a^b f(x)dx = \\frac{h}{3}\\left[f(a) + 2\\sum_{i=1}^{(n-1)}f(x_{2i}) + 4\\sum_{i=1}^{n}f(x_{2i-1}) + f(b)\\right]-\\frac{b − a}{180}h^4f^{(4)}(\\xi)\n",
        ",$$\n",
        " \n",
        " donde $\\xi ∈ (a,b).$\n",
        "error=0.001"
      ]
    },
    {
      "cell_type": "markdown",
      "metadata": {
        "id": "NYVf226fXJq7"
      },
      "source": [
        "\n",
        "La regla de Simpson resulta de la integración sobre \"[a,b] del segundo polinomio deLagrange con nodos igualmente espaciados$X_0=a,X_2=b$ y $X_1=a+h$ donde $h=\\frac{(b-a)}{2}$.\n",
        "Por lo tanto:\n",
        "$$ \\int_{a}^{b} f(X)\\, dx = \\int_{X_0}^{X_2} [\\frac{(x-x_1)-(x-x_2)}{(x_0-x_1)-(x_0-x_2)}f(X_0)+\\frac{(x-x_0)-(x-x_2)}{(x_1-x_0)-(x_1-x_2)}f(x_1)+\\frac{(X-X_0)-(x-x_1)}{(x_2-x_0)-(x_2-x_1)}f(X_2) ] \\, dx + \\int_{x_0}^{x_2} \\frac{(x-x_0)(x-x_1)(x-x_2)}{6}f^{(3)}(\\xi(x)) \\, dx $$\n",
        "\n",
        "Al deducir la regla de Simpson de esta forma, sin embargo, da un solo término de error $O(h^4)$ relacionado con $f^3$. \n",
        "Al aproximar el problema de otra forma, se puede derivar otro términode orden superior relacionado con $f^4$.\n",
        "Para ilustrar este método alternativo, suponga que $f$ se expande en el tercer polinomio deTaylor alrededor de $X_1$. Entonces, para cada $X$ en $[X_0,X_2]$, \n",
        "existe un número $\\xi(X)$ en $(X_0,X_2)$ con\n",
        "$$f(X) = f(X_1) + f'(X_1)(X-X_1) + \\frac{f''(x_1}{2}(X-X_1)^2 + \\frac{f'''(x_1}{6}(x-x_1)^3 +\\frac{f^{(4)}X_1}{24}(x-x_1)^4 $$ \n",
        "\\begin{equation} \\tag{1}\n",
        " \\int_{x_0}^{x_2} f(X)\\, dx = [f(x_1)(x-x_1) + \\frac{f''(x_1)}{2}(x-x_1)^2 + \\frac{f'(x_1)}{6}(x-x_1)^3 +\\frac{f´´(x_1)}{24}(x-x_1)^4]^{x_2}_{x_0} +\\frac{1}{24} \\int_{x_0}^{x_2} f^{(4)}(\\xi(x)) (x-x_1)^4 \\, dx   \n",
        "\\end{equation}\n",
        "Puesto que $ (x-x_1)$ nunca es negativo en $[x_0,x_2]$, el teorema de valor promedio ponderadopara las integrales, implica que:\n",
        "\n",
        "$$ \\frac{1}{24} \\int_{x_0}^{x_2} f^{(4)}(\\xi(X)) (x-x_1)^4 \\, dx = \\frac{f^{(4)}(\\xi_1)}{24}  \\int_{x_0}^{x_2}  (X-X_1)^4 \\, dx = [\\frac{f^{(4)}(\\xi_1)}{120} (x-x_1)^5]^{x_2}_{x_0} $$\n",
        "\n",
        "Para algun numero $\\xi_1$ en $(x_0,x_2)$. Sin embargo $h=x_2-x_1=x_1-x_0$ por lo que $$ (x_2-x_1)^2-(x_0-x_1)^2 = (x_2-x_1)^4 - (x_0-x_1)^4 = 0 $$\n",
        "mientras \n",
        "$$ (x_2-x_1)^3-(x_0-x_1)^3 =2h^3 $$ y $$ (x_2-x_1)^5-(x_0-x_1)^5 =2h^5. $$\n",
        "Por consiguiente la ecuación (1) se puede escribir como:\n",
        "$$ \\int_{x_0}^{x_2} f(x)\\, dx =2hf(x_1) + \\frac{h^3}{3}f''(x_1)+\\frac{f^{(4)}(\\xi_1)}{60}h^5 $$\n",
        "Ahora, si reemplazamos $f''(x_1)$ por medio de la aproximación del punto medio de la segunda derivada, tenemos:\n",
        "$$ \\int_{x_0}^{x_2} f(x)\\, dx =2hf(x_1) + \\frac{h^3}{3}({\\frac{1}{h^2}|f(x_0)-2f(x_1)+f(x_2)|-\\frac{h^5}{36}f^{(4)}(\\xi_2)}) +\\frac{f^{(4)}(\\xi_1)}{60}h^5$$ $$ =\\frac{h}{3}|f(x_0)+4f(x_1)+f(x_2)|- \\frac{h^5}{12}[\\frac{1}{3}f^{(4)}(\\xi_2)-\\frac{1}{5}f^{(4)}(\\xi_1)]  $$\n",
        "Se puede demostrar que los valores $xi_1$ y $\\xi_2$ en esta expresión se puede reemplazar mediante un valor común $\\xi$ en $(x_0,x_2)$. Esto da la regla de Simpson.\n",
        "$$ \\int_{x_0}^{x_2} f(x)\\, dx =\\frac{h}{3} |f(x_0)+4f(x1)+f(x_2)|-\\frac{h^5}{90}f^{(4)}(\\xi)$$\n",
        "\n",
        "El término de error en la regla de Simpson implica la cuarta derivada de\n",
        " $f$, por lo que daresultados exactos cuando se aplica a cualquier polinomio de grado tres o menos."
      ]
    },
    {
      "cell_type": "markdown",
      "metadata": {
        "id": "8l8YUjJQAKVl"
      },
      "source": [
        "###Método de cuadratura"
      ]
    },
    {
      "cell_type": "markdown",
      "metadata": {
        "id": "YIixIlcWNqCM"
      },
      "source": [
        "\n",
        "Dada una función de buen comportamiento $f(x)$, tenemos\n",
        "\n",
        "$$f(x) \\approx \\sum_{k=0}^n f(x_k)L_{n,k}(x)$$\n",
        "\n",
        "\\begin{align}\n",
        "%$$ trick notebook cell\n",
        "\\int_a^b f(x)dx =& \\int_a^b\\sum_{k=0}^n f(x_k)L_{n,k}(x)dx \\\\\n",
        "=&\\sum_{k=0}^n f(x_k) \\int_a^b L_{n,k}(x)dx \\\\\n",
        "=&\\sum_{k=0}^n f(x_k) \\omega_k \\,\n",
        "%$$\n",
        "\\end{align}\n",
        "\n",
        "donde $\\omega_k$  es un peso aplicado a cada valor de función:\n",
        "$$\\omega_k = \\int_a^b L_{n,k}(x) dx= \\int_a^b\\prod_{j=0,\\ j\\neq k}^{n}\\frac{(x-x_j)}{(x_k-x_j)}dx$$\n",
        "\n",
        "Los polinomios de Lagrange no dependen de la función, podemos calcular analíticamente los pesos $ \\omega_i $ usando solo los nodos $[x_0,x_1,\\ldots x_n]$, "
      ]
    },
    {
      "cell_type": "markdown",
      "metadata": {
        "id": "EW5HvQiM0ADb"
      },
      "source": [
        "$$\n",
        "\\int_0^1 e^{1-x^2}\\, dx\n",
        "$$\n"
      ]
    },
    {
      "cell_type": "code",
      "metadata": {
        "colab": {
          "base_uri": "https://localhost:8080/"
        },
        "id": "sOBIVDoZK2x0",
        "outputId": "a15336fa-2603-4ce9-e915-6e5547d85d66"
      },
      "source": [
        "#regla del trapecio.\n",
        "\n",
        "b=1\n",
        "a=0\n",
        "epsilon=1e-5\n",
        "\n",
        "x = sp.symbols(\"x\") #Definicion de x como simbolo.\n",
        "f= sp.exp((1 - x**2))#Definicion de la función \n",
        "\n",
        "f2 = sp.diff(f, x, 2)#segunda derivada de la funcion\n",
        "\n",
        "fxn5 = sp.lambdify(x, f2, 'numpy') #numpy funcion\n",
        "\n",
        "x_ = np.linspace(-1, 1)\n",
        "\n",
        "#maximo de la funcion \n",
        "Max = np.max(fxn5(x_))\n",
        "#print(Max)\n",
        "h=sp.sqrt((12*epsilon)/((b-a)*Max)) #El tamaño de cada paso\n",
        "\n",
        "N = int((b-a)/h) #numero de intervalos\n",
        "\n",
        "xp = np.linspace(a, b, N+1)\n",
        "\n",
        "x_interior = xp[1:-1]  #Puntos del interior\n",
        "\n",
        "g=sp.lambdify(x,f,'numpy')\n",
        "\n",
        "T1 =  (g(a))\n",
        "T3 =  (g(b))\n",
        "T2 =  np.sum(g(x_interior))\n",
        "\n",
        "trap_f = T1 + 2*T2 + T3\n",
        "trap_f = 0.5*h*trap_f\n",
        "\n",
        "print(\"El valor de la integral es: %.8lf \" %trap_f)"
      ],
      "execution_count": null,
      "outputs": [
        {
          "name": "stdout",
          "output_type": "stream",
          "text": [
            "El valor de la integral es: 2.02850470 \n"
          ]
        }
      ]
    },
    {
      "cell_type": "code",
      "metadata": {
        "colab": {
          "base_uri": "https://localhost:8080/"
        },
        "id": "EEJDGTJVXBp-",
        "outputId": "7b6bc7ab-6e8f-4cda-e3ae-a4594dd7f6fd"
      },
      "source": [
        "#simpson\n",
        "def simpson(f, a, b, N):\n",
        "    \"\"\"\n",
        "    Aproxima la integral de $f$ en $[a,b]$ mediante la fórmula compuesta \n",
        "    de Simpson con N subintervalos\n",
        "    \"\"\"\n",
        "    n_nodos = 2*N+1 # (N+1 extremos de subintervalos) + (N puntos medios)\n",
        "    x = np.linspace(a, b, n_nodos)\n",
        "\n",
        "    x_impar = x[1: :2] # Nodos con coordenada impar (ptos medios)\n",
        "    x_par = x[2:n_nodos-1:2] # Nodos con coordenada par (salvo el primero y el último)\n",
        "\n",
        "    h = (b-a)/(2*N) # Distancia entre dos nodos de integración\n",
        "    cuad = h/3*(f(a) + 2*sum(f(x_par)) + 4*sum(f(x_impar)) + f(b)) # F. comp. de Simpson\n",
        "    return cuad  \n",
        "x = simpson(g, 0, 1, 20)\n",
        "print(\"El valor de la integral por el metodo de simpson es: \", x)"
      ],
      "execution_count": null,
      "outputs": [
        {
          "name": "stdout",
          "output_type": "stream",
          "text": [
            "El valor de la integral por el metodo de simpson es:  2.0300784779579635\n"
          ]
        }
      ]
    },
    {
      "cell_type": "code",
      "metadata": {
        "colab": {
          "base_uri": "https://localhost:8080/",
          "height": 37
        },
        "id": "AaV4KLkFi-Ou",
        "outputId": "e56e322c-3a33-4397-d297-e41030a87274"
      },
      "source": [
        "#metodo de cuadratura\n",
        "x=np.linspace(0,1,100)\n",
        "\n",
        "def f(x):\n",
        "  y=np.e**((1 - x**2))\n",
        "  return y\n",
        "quad(f, 0, 1)[0]"
      ],
      "execution_count": null,
      "outputs": [
        {
          "data": {
            "image/png": "[encoded data removed]",
            "text/latex": "$\\displaystyle 2.0300784692787$",
            "text/plain": [
              "2.030078469278705"
            ]
          },
          "execution_count": 14,
          "metadata": {},
          "output_type": "execute_result"
        }
      ]
    },
    {
      "cell_type": "markdown",
      "metadata": {
        "id": "-f4Vz1-QbpQ-"
      },
      "source": [
        "$$\n",
        "\\int_{-\\infty}^{\\infty} \\frac{1}{1+x^2} \\, dx\n",
        "$$\n",
        "$$\n",
        "x= tan(u)<=> u=tan^{-1}(x), dx=sec^{2}(u)du\n",
        "$$\n",
        "$$x \\longrightarrow -\\infty = u \\longrightarrow \\frac{-\\pi}{2} $$\n",
        "$$x \\longrightarrow \\infty = u \\longrightarrow \\frac{\\pi}{2} $$\n",
        "por tanto la integral queda:\n",
        "$$\n",
        "\\int_{\\frac{-\\pi}{2}}^{\\frac{\\pi}{2}} \\frac{sec^2(u)}{1+tan^2(x)} \\, du = \\int_{\\frac{-\\pi}{2}}^{\\frac{\\pi}{2}} 1 \\, du\n",
        "$$\n"
      ]
    },
    {
      "cell_type": "code",
      "metadata": {
        "colab": {
          "base_uri": "https://localhost:8080/"
        },
        "id": "LqRi2fgyzEy3",
        "outputId": "8d62815c-27d1-449f-8973-1606aecd194e"
      },
      "source": [
        "b=sp.pi/2\n",
        "a=-sp.pi/2\n",
        "\n",
        "x = sp.symbols(\"x\") #Definicion de x como simbolo.\n",
        "f= (1)#Definicion de la función \n",
        "\n",
        "f2 = sp.diff(f, x, 2)#segunda derivada de la funcion\n",
        "\n",
        "fxn5 = sp.lambdify(x, -f2, 'numpy') #numpy funcion\n",
        "\n",
        "x_ = np.linspace(-np.pi, np.pi)\n",
        "fp=optimize.fmin_powell( fxn5, 0.1,  ftol=1E-7 )\n",
        "\n",
        "#este metodo no funciona puesto que no se puede hallar h manuekmante ya que el maximo es 0 no se puede dividor entre 0\n",
        "#h=sp.sqrt((12*epsilon)/((b-a)*Max))\n",
        "\n",
        "#maximo de la funcion \n",
        "#Max = np.max(fxn5(x_))\n",
        "#print(Max)\n"
      ],
      "execution_count": null,
      "outputs": [
        {
          "name": "stdout",
          "output_type": "stream",
          "text": [
            "Optimization terminated successfully.\n",
            "         Current function value: 0.000000\n",
            "         Iterations: 1\n",
            "         Function evaluations: 13\n"
          ]
        }
      ]
    },
    {
      "cell_type": "code",
      "metadata": {
        "colab": {
          "base_uri": "https://localhost:8080/",
          "height": 37
        },
        "id": "9TH1DgoAgAPJ",
        "outputId": "7e9d705d-8ea4-44c8-c468-a7752c0de095"
      },
      "source": [
        "#metodo trapecio\n",
        "\n",
        "x=np.linspace(-np.pi/2,np.pi/2,100)\n",
        "\n",
        "def f(x):\n",
        "  y=1\n",
        "  return y\n",
        "\n",
        "g=np.vectorize(f)\n",
        "g(x)\n",
        "integrate.trapz(g(x),x,dx=0.00001)"
      ],
      "execution_count": null,
      "outputs": [
        {
          "data": {
            "image/png": "[encoded data removed]",
            "text/latex": "$\\displaystyle 3.14159265358979$",
            "text/plain": [
              "3.141592653589793"
            ]
          },
          "execution_count": 16,
          "metadata": {},
          "output_type": "execute_result"
        }
      ]
    },
    {
      "cell_type": "code",
      "metadata": {
        "colab": {
          "base_uri": "https://localhost:8080/",
          "height": 37
        },
        "id": "-Y1xUo54hBsN",
        "outputId": "bf442b0b-73d4-40ad-8758-1ffbaed0dc93"
      },
      "source": [
        "#metodo simpson\n",
        "integrate.simps(g(x),x,dx=0.0001)"
      ],
      "execution_count": null,
      "outputs": [
        {
          "data": {
            "image/png": "[encoded data removed]",
            "text/latex": "$\\displaystyle 3.14159265358979$",
            "text/plain": [
              "3.141592653589793"
            ]
          },
          "execution_count": 17,
          "metadata": {},
          "output_type": "execute_result"
        }
      ]
    },
    {
      "cell_type": "code",
      "metadata": {
        "colab": {
          "base_uri": "https://localhost:8080/",
          "height": 37
        },
        "id": "dsNcfhWziaOL",
        "outputId": "ff3e1ec0-6a31-468f-8a3f-ae431ad01944"
      },
      "source": [
        "#metodo de la cuadratura\n",
        "quad(f, -np.pi/2, np.pi/2)[0]"
      ],
      "execution_count": null,
      "outputs": [
        {
          "data": {
            "image/png": "[encoded data removed]",
            "text/latex": "$\\displaystyle 3.14159265358979$",
            "text/plain": [
              "3.141592653589793"
            ]
          },
          "execution_count": 18,
          "metadata": {},
          "output_type": "execute_result"
        }
      ]
    },
    {
      "cell_type": "markdown",
      "metadata": {
        "id": "lmp9qUo-nasS"
      },
      "source": [
        "\n",
        "$$\n",
        "\\int_{0}^{\\pi/4} \\int_{\\sin x}^{\\cos x} (2y\\sin x +\\cos^2 x)\\, dxdy = \\int_{0}^{\\pi/4} \\int_{\\sin x}^{\\cos x} (2y\\sin x +\\cos^2 x)\\, dydx\n",
        "$$\n",
        "resolviendo la primera integral:\n",
        "$$\n",
        "\\int_{\\sin x}^{\\cos x} (2y\\sin x +\\cos^2 x)\\, dy = cos^3(x)-cos^2(x)sin(x)+sin(x)cos(2x)\n",
        "$$\n",
        "por tanto se resuelve la siguiente integral:\n",
        "$$\n",
        "\\int_{0}^{\\pi/4}  cos^3(x)-cos^2(x)sin(x)+sin(x)cos(2x) \\, dx\n",
        "$$"
      ]
    },
    {
      "cell_type": "code",
      "metadata": {
        "colab": {
          "base_uri": "https://localhost:8080/"
        },
        "id": "G_wF_FKCslCn",
        "outputId": "398587c8-a64f-4958-88b1-bbf63fceab29"
      },
      "source": [
        "#regla del trapecio.\n",
        "\n",
        "b=np.pi/4\n",
        "a=0\n",
        "epsilon=1e-5\n",
        "\n",
        "x = sp.symbols(\"x\") #Definicion de x como simbolo.\n",
        "\n",
        "y1=(sp.cos(x))**3\n",
        "y2=-(sp.sin(x))*(sp.cos(x))**2\n",
        "y3=sp.sin(x)*sp.cos(2*x)\n",
        "f= y1+y2+y3#Definicion de la función \n",
        "\n",
        "f2 = sp.diff(f, x, 2)#segunda derivada de la funcion\n",
        "\n",
        "fxn5 = sp.lambdify(x, f2, 'numpy') #numpy funcion\n",
        "\n",
        "x_ = np.linspace(-1, 1)\n",
        "\n",
        "#maximo de la funcion \n",
        "Max = np.max(fxn5(x_))\n",
        "#print(Max)\n",
        "h=sp.sqrt((12*epsilon)/((b-a)*Max)) #El tamaño de cada paso\n",
        "\n",
        "N = int((b-a)/h) #numero de intervalos\n",
        "\n",
        "xp = np.linspace(a, b, N+1)\n",
        "\n",
        "x_interior = xp[1:-1]  #Puntos del interior\n",
        "\n",
        "g=sp.lambdify(x,f,'numpy')\n",
        "\n",
        "T1 =  (g(a))\n",
        "T3 =  (g(b))\n",
        "T2 =  np.sum(g(x_interior))\n",
        "\n",
        "trap_f = T1 + 2*T2 + T3\n",
        "trap_f = 0.5*h*trap_f\n",
        "\n",
        "print(\"El valor de la integral es: %.8lf \" %trap_f)"
      ],
      "execution_count": null,
      "outputs": [
        {
          "name": "stdout",
          "output_type": "stream",
          "text": [
            "El valor de la integral es: 0.50709174 \n"
          ]
        }
      ]
    },
    {
      "cell_type": "code",
      "metadata": {
        "colab": {
          "base_uri": "https://localhost:8080/"
        },
        "id": "TdSxMNgduccI",
        "outputId": "85f133c1-7514-473f-a1f2-d87339ad3c6f"
      },
      "source": [
        "#simpson\n",
        "def simpson(f, a, b, N):\n",
        "    \"\"\"\n",
        "    Aproxima la integral de $f$ en $[a,b]$ mediante la fórmula compuesta \n",
        "    de Simpson con N subintervalos\n",
        "    \"\"\"\n",
        "    n_nodos = 2*N+1 # (N+1 extremos de subintervalos) + (N puntos medios)\n",
        "    x = np.linspace(a, b, n_nodos)\n",
        "\n",
        "    x_impar = x[1: :2] # Nodos con coordenada impar (ptos medios)\n",
        "    x_par = x[2:n_nodos-1:2] # Nodos con coordenada par (salvo el primero y el último)\n",
        "\n",
        "    h = (b-a)/(2*N) # Distancia entre dos nodos de integración\n",
        "    cuad = h/3*(f(a) + 2*sum(f(x_par)) + 4*sum(f(x_impar)) + f(b)) # F. comp. de Simpson\n",
        "    return cuad  \n",
        "x = simpson(g, 0, 1, 20)\n",
        "print(\"El valor de la integral por el metodo de simpson es: \", x)"
      ],
      "execution_count": null,
      "outputs": [
        {
          "name": "stdout",
          "output_type": "stream",
          "text": [
            "El valor de la integral por el metodo de simpson es:  0.463922708588527\n"
          ]
        }
      ]
    },
    {
      "cell_type": "code",
      "metadata": {
        "colab": {
          "base_uri": "https://localhost:8080/",
          "height": 37
        },
        "id": "9IP-Puwp9s6p",
        "outputId": "a2dba8d6-ac5f-42ae-8a9a-f94c3a89c939"
      },
      "source": [
        "#otra manera de hacer el metodo del trapecio\n",
        "x=np.linspace(0,np.pi/4,100)\n",
        "\n",
        "def f(x):\n",
        "  #y=((np.cos(x))**2)-((np.cos(x)**2)*(np.sin(x)))+(np.sin(x)*np.cos(2*x))\n",
        "  y1=(np.cos(x))**3\n",
        "  y2=-(np.sin(x))*(np.cos(x))**2\n",
        "  y3=np.sin(x)*np.cos(2*x)\n",
        "  y=y1+y2+y3\n",
        "  return y\n",
        "\n",
        "g=np.vectorize(f)\n",
        "g(x)\n",
        "integrate.trapz(g(x),x,dx=0.00001)"
      ],
      "execution_count": null,
      "outputs": [
        {
          "data": {
            "image/png": "[encoded data removed]",
            "text/latex": "$\\displaystyle 0.511833509339219$",
            "text/plain": [
              "0.5118335093392186"
            ]
          },
          "execution_count": 21,
          "metadata": {},
          "output_type": "execute_result"
        }
      ]
    },
    {
      "cell_type": "code",
      "metadata": {
        "colab": {
          "base_uri": "https://localhost:8080/",
          "height": 37
        },
        "id": "tqUdzjT1xQMl",
        "outputId": "282c6830-d5c4-4f9c-b0dc-17f922146946"
      },
      "source": [
        "#otra maner de hacer el metodo de simpson\n",
        "integrate.simps(g(x),x,dx=0.0001)"
      ],
      "execution_count": null,
      "outputs": [
        {
          "data": {
            "image/png": "[encoded data removed]",
            "text/latex": "$\\displaystyle 0.511844571895384$",
            "text/plain": [
              "0.5118445718953843"
            ]
          },
          "execution_count": 22,
          "metadata": {},
          "output_type": "execute_result"
        }
      ]
    },
    {
      "cell_type": "code",
      "metadata": {
        "colab": {
          "base_uri": "https://localhost:8080/",
          "height": 37
        },
        "id": "a8vdN3ATUygV",
        "outputId": "79e21908-8a42-4d47-da7b-f40b46b374d8"
      },
      "source": [
        "#metodo de la cuadratura\n",
        "quad(f,0, np.pi/4)[0]"
      ],
      "execution_count": null,
      "outputs": [
        {
          "data": {
            "image/png": "[encoded data removed]",
            "text/latex": "$\\displaystyle 0.511844635310913$",
            "text/plain": [
              "0.5118446353109126"
            ]
          },
          "execution_count": 23,
          "metadata": {},
          "output_type": "execute_result"
        }
      ]
    },
    {
      "cell_type": "markdown",
      "metadata": {
        "id": "WlYyiIpBvSJi"
      },
      "source": [
        "$$\n",
        "\\int_{e}^{2e} \\frac{1}{\\ln x} \\, dx\n",
        "$$"
      ]
    },
    {
      "cell_type": "code",
      "metadata": {
        "colab": {
          "base_uri": "https://localhost:8080/",
          "height": 120
        },
        "id": "mUoesIX_VOPO",
        "outputId": "7c382cc1-8539-4f69-ea1b-53076e5d4c03"
      },
      "source": [
        "#regla del trapecio.\n",
        "\n",
        "b=2*np.e\n",
        "a=np.e\n",
        "epsilon=1e-5\n",
        "\n",
        "x = sp.symbols(\"x\") #Definicion de x como simbolo.\n",
        "\n",
        "f= (1/sp.ln(x))#Definicion de la función \n",
        "\n",
        "f2 = sp.diff(f, x, 2)#segunda derivada de la funcion\n",
        "\n",
        "fxn5 = sp.lambdify(x, f2, 'numpy') #numpy funcion\n",
        "\n",
        "x_ = np.linspace(-1, 1)\n",
        "\n",
        "#maximo de la funcion \n",
        "#Max = np.max(fxn5(x_))\n",
        "#print(Max)\n",
        "Max=optimize.fmin_powell( fxn5, 0.1,  ftol=1E-7 )\n",
        "\"\"\"\n",
        "h=sp.sqrt((12*epsilon)/((b-a)*Max)) #El tamaño de cada paso\n",
        "\n",
        "Como el maximo es muy grande h tiende a ser 0 por tanto no se puede hacer de esta manera.\n",
        "\"\"\""
      ],
      "execution_count": null,
      "outputs": [
        {
          "name": "stdout",
          "output_type": "stream",
          "text": [
            "Optimization terminated successfully.\n",
            "         Current function value: -6943125348848170687177585370071040.000000\n",
            "         Iterations: 8\n",
            "         Function evaluations: 304\n"
          ]
        },
        {
          "name": "stderr",
          "output_type": "stream",
          "text": [
            "<string>:2: RuntimeWarning: invalid value encountered in log\n"
          ]
        },
        {
          "data": {
            "application/vnd.google.colaboratory.intrinsic+json": {
              "type": "string"
            },
            "text/plain": [
              "'\\nh=sp.sqrt((12*epsilon)/((b-a)*Max)) #El tamaño de cada paso\\n\\nComo el maximo es muy grande h tiende a ser 0 por tanto no se puede hacer de esta manera.\\n'"
            ]
          },
          "execution_count": 24,
          "metadata": {},
          "output_type": "execute_result"
        }
      ]
    },
    {
      "cell_type": "code",
      "metadata": {
        "colab": {
          "base_uri": "https://localhost:8080/",
          "height": 37
        },
        "id": "mUGyoU__vrbz",
        "outputId": "625f8eef-dc64-47cc-e88c-7015139d7462"
      },
      "source": [
        "#metodo del trapecio\n",
        "x=np.linspace(np.e,2*np.e,100)\n",
        "\n",
        "def f(x):\n",
        "  y=(1/np.log10(x))\n",
        "  return y\n",
        "g=np.vectorize(f)\n",
        "g(x)\n",
        "integrate.trapz(g(x),x,dx=0.00001)"
      ],
      "execution_count": null,
      "outputs": [
        {
          "data": {
            "image/png": "[encoded data removed]",
            "text/latex": "$\\displaystyle 4.61398826319345$",
            "text/plain": [
              "4.61398826319345"
            ]
          },
          "execution_count": 25,
          "metadata": {},
          "output_type": "execute_result"
        }
      ]
    },
    {
      "cell_type": "code",
      "metadata": {
        "colab": {
          "base_uri": "https://localhost:8080/",
          "height": 37
        },
        "id": "ffHbw902xDeF",
        "outputId": "7565df40-c181-400a-f97e-5a1236ab15fe"
      },
      "source": [
        "#metodo simpson\n",
        "integrate.simps(g(x),x,dx=0.0001)"
      ],
      "execution_count": null,
      "outputs": [
        {
          "data": {
            "image/png": "[encoded data removed]",
            "text/latex": "$\\displaystyle 4.61394517243407$",
            "text/plain": [
              "4.613945172434072"
            ]
          },
          "execution_count": 26,
          "metadata": {},
          "output_type": "execute_result"
        }
      ]
    },
    {
      "cell_type": "code",
      "metadata": {
        "colab": {
          "base_uri": "https://localhost:8080/",
          "height": 37
        },
        "id": "kRNKLQ1mweAI",
        "outputId": "b1c91bfa-fcf8-4f06-857d-78eb95fc7b8e"
      },
      "source": [
        "#metodo de la cuadratura\n",
        "quad(g,np.e,2*np.e)[0]"
      ],
      "execution_count": null,
      "outputs": [
        {
          "data": {
            "image/png": "[encoded data removed]",
            "text/latex": "$\\displaystyle 4.6139443283795$",
            "text/plain": [
              "4.613944328379504"
            ]
          },
          "execution_count": 27,
          "metadata": {},
          "output_type": "execute_result"
        }
      ]
    },
    {
      "cell_type": "markdown",
      "metadata": {
        "id": "kyQ_iZgAkLra"
      },
      "source": [
        "##Problema: Velocidad de escape"
      ]
    },
    {
      "cell_type": "markdown",
      "metadata": {
        "id": "mxGEd5YM7GSj"
      },
      "source": [
        "Supongamos que un cuerpo de masa m se desplaza verticalmente hacia arriba partiendo de la superficie de la tierra. Si se desprecia toda la resistencia excepto la gravedad, la velocidad de escape v viene dada por"
      ]
    },
    {
      "cell_type": "markdown",
      "metadata": {
        "id": "FHsAx5vL7h-1"
      },
      "source": [
        "$$v^2=2gR\\int_{1}^{∞} \\frac{1}{z^2}dz$$"
      ]
    },
    {
      "cell_type": "markdown",
      "metadata": {
        "id": "3hqgsKT68Iwx"
      },
      "source": [
        "$$z=\\frac{x}{R}$$       "
      ]
    },
    {
      "cell_type": "markdown",
      "metadata": {
        "id": "juxGzlY29gT4"
      },
      "source": [
        "$$dz=\\frac{1}{R}dx$$ "
      ]
    },
    {
      "cell_type": "markdown",
      "metadata": {
        "id": "0xHADN-N8mV3"
      },
      "source": [
        "R es el radio de la Tierra y g la aceleración de la gravedad. Aproximar la velocidad de escape."
      ]
    },
    {
      "cell_type": "markdown",
      "metadata": {
        "id": "U3ZO8qxA88lk"
      },
      "source": [
        "$$v^2=2gR\\int_{1}^{∞} \\frac{R^2 }{x^2 R}dx$$"
      ]
    },
    {
      "cell_type": "markdown",
      "metadata": {
        "id": "ynbnDhT29HDf"
      },
      "source": [
        "$$v^2=2gR^2\\int_{1}^{∞} \\frac{1}{x^2}dx$$"
      ]
    },
    {
      "cell_type": "code",
      "metadata": {
        "colab": {
          "base_uri": "https://localhost:8080/",
          "height": 37
        },
        "id": "dU4_BXI29zlx",
        "outputId": "f57d3ac4-0d0a-496c-f694-863b4f5c3f2f"
      },
      "source": [
        "R=6.378                 # radio terrestre en km\n",
        "r=6378000               #radio terrestre en m\n",
        "g=9.8                   # aceleracion en m/s^2 \n",
        "\n",
        "integrate.quad(lambda x:1/x**2,1,np.inf)\n",
        "val=integrate.quad(lambda x:1/(x**2),1,np.inf)[0]\n",
        "v=np.sqrt(2*g*r**2*val)\n",
        "v"
      ],
      "execution_count": null,
      "outputs": [
        {
          "data": {
            "image/png": "[encoded data removed]",
            "text/latex": "$\\displaystyle 28236609.6831755$",
            "text/plain": [
              "28236609.683175493"
            ]
          },
          "execution_count": 28,
          "metadata": {},
          "output_type": "execute_result"
        }
      ]
    },
    {
      "cell_type": "markdown",
      "metadata": {
        "id": "MesEbny_ufQ-"
      },
      "source": [
        "#Métodos de integración y errores relativos"
      ]
    },
    {
      "cell_type": "markdown",
      "metadata": {
        "id": "-yuux5JlopKN"
      },
      "source": [
        "###Método trapezoidal"
      ]
    },
    {
      "cell_type": "markdown",
      "metadata": {
        "id": "kEKKiA4YN0lM"
      },
      "source": [
        " Escribe un programa de doble precisión para integrar numéricamente una función arbitraria utilizando la regla del trapecio, la regla de Simpson y la cuadratura de Gauss. Para nuestros problemas supuestos hay una respuesta analítica:"
      ]
    },
    {
      "cell_type": "markdown",
      "metadata": {
        "id": "N0e3X8Edj1YG"
      },
      "source": [
        "\n",
        " \n",
        " $${ \\int_a^b f(x)dx = \\frac{h}{2}\\left[f(a) + 2\\sum_{i=1}^{n-1}f(x_i) + f(b)\\right]-\\frac{b − a}{12}h^2f''(\\xi).}$$\n",
        " \n",
        " Donde el último término es el error y $\\xi$ es un número desconocido tal que $\\xi ∈ [a,b]$. "
      ]
    },
    {
      "cell_type": "code",
      "metadata": {
        "colab": {
          "background_save": true
        },
        "id": "6rFFEzDsjl4w"
      },
      "source": [
        "def Trapezoidal(f,a,b,n):\n",
        "   h = (b - a)/n\n",
        "   S = (f(a) + f(b))/2.  # inicialise con f0w0 + f[n-1]*w[n-1]\n",
        "   for i in range(1,n):# suma en 1, ..., n-2 \n",
        "     S = S + f(a + i*h)  # I = f1w1 + f2w2 + ... + fn-2*wn-2\n",
        "   return S*h # suma último elemento fn-1*wn-1"
      ],
      "execution_count": null,
      "outputs": []
    },
    {
      "cell_type": "markdown",
      "metadata": {
        "id": "4gpu2sQ1kSFI"
      },
      "source": [
        "###Método de Simpson\n",
        "\n",
        "En general, la regla de simpson es\n",
        " \n",
        "$${\n",
        " \\int_a^b f(x)dx = \\frac{h}{3}\\left[f(a) + 2\\sum_{i=1}^{(n/2)-1}f(x_{2i}) + 4\\sum_{i=1}^{n/2}f(x_{2i-1}) + f(b)\\right]-\\frac{b − a}{180}h^4f^{(4)}(\\xi)\n",
        ",}$$\n",
        " \n",
        " donde $\\xi ∈ (a,b).$"
      ]
    },
    {
      "cell_type": "code",
      "metadata": {
        "colab": {
          "background_save": true
        },
        "id": "cvGqGoBakTxE"
      },
      "source": [
        "# Integral en [a,b] n debe ser entero positivo, pues requiere 2 intervalos/paso.\n",
        "def Simpson(f,a,b,n):\n",
        "   h = (b - a)/n\n",
        "   S0 = f(a) + f(b)\n",
        "   S1 = 0 \n",
        "   S2 = 0 \n",
        "   for i in range(1,n):  # suma en 1, ..., n-1 \n",
        "     if (i%2==0): \n",
        "        S2 += f(a + i*h) # suma de de f(2xi)\n",
        "     else:\n",
        "        S1 += f(a + i*h) # suma de de f(2x[i-1])\n",
        "   return (S0 + 2*S2 + 4*S1)*h/3 "
      ],
      "execution_count": null,
      "outputs": []
    },
    {
      "cell_type": "markdown",
      "metadata": {
        "id": "pCQVrjnMoWr5"
      },
      "source": [
        "###Cuadratura de Gauss"
      ]
    },
    {
      "cell_type": "code",
      "metadata": {
        "colab": {
          "background_save": true
        },
        "id": "kK0xmVd00HIG"
      },
      "source": [
        "def gauss(n,job, a,b,x,w, eps = 3.E-15 ):\n",
        "    \"\"\"\n",
        "    -------------------------------------------------------------------------\n",
        "    # Metodo de Cuadratura Gaussiana (Gauss–Legendre quadratura) usando n   #\n",
        "    # puntos en el intervalo [a,b], x y w arreglos con los puntos xi (ceros #\n",
        "    # del polinomio de Legendre P_n(x)) y pesos wi, eps es el error deseado,# \n",
        "    # job es:                                                               #\n",
        "    #        0 para integración en [a, b]                                   #\n",
        "    #        1 para integración en [0, b]                                   #\n",
        "    #        2 para integración en [a, inf]                                 #\n",
        "    -------------------------------------------------------------------------\n",
        "    \"\"\"    \n",
        "    m = (n + 1)//2 # Por simetria, solo se calcula la mitad de las raíces.\n",
        "    for i in range(1, m + 1): # Bucle para encontrar las raíces y los pesos.\n",
        "        t = np.cos(np.pi*(i - 0.25)/(n + 0.5) ) # Suposición inicial de la \n",
        "        t1 = 1                                  # i-esima raiz de orden n.\n",
        "        while( (np.abs(t - t1) ) >= eps):       # Newton iteration para\n",
        "            p1 = 1. ; p2 = 0.                   # encontrar la raíz i-esima.\n",
        "            for j in range(1, n + 1):\n",
        "                p3 = p2                         # Relación de recurrencia de \n",
        "                p2 = p1                         # P_n(x).\n",
        "                p1 = ( (2.*j - 1)*t*p2 - (j - 1.)*p3)/j\n",
        "                                                # Relación de recurrencia de \n",
        "            pp = n*(t*p1 - p2)/(t*t - 1.)       # P'_n(x): Derivada de P_n(x).\n",
        "            t1 = t\n",
        "            t  = t1 - p1/pp                     # xi = x - P_n(x)/P'_n(x).\n",
        "\n",
        "        x[i - 1] = - t      # Guardar la raiz encontrada y\n",
        "        x[n - i] = t        # por simetria esta es la otra raiz no calculada.\n",
        "        w[i - 1] = 2./( (1. - t*t)*pp*pp)       # Guardar peso.\n",
        "        w[n - i] = w[i - 1]                     # Guardar, usando simetria.\n",
        "        # print(\" x[i - 1]\", x[i - 1] , \" w \" , w[n - i])\n",
        "    if (job == 0):\n",
        "        for i in range(0, n):\n",
        "            x[i] = x[i]*(b - a)/2. + (b + a)/2. # Transformación de [-1,1] al\n",
        "            w[i] = w[i]*(b - a)/2.              # intervalo [a, b].\n",
        "            \n",
        "    if (job == 1):\n",
        "        for i in range(0, n):\n",
        "            xi = x[i]\n",
        "            x[i] = a*b*(1. + xi)/(b + a - (b - a)*xi)\n",
        "            w[i] = w[i]*2.*a*b*b/( (b + a - (b - a)*xi)**2. )\n",
        "            \n",
        "    if (job == 2):\n",
        "        for i in range(0, n): #4\n",
        "            xi = x[i]\n",
        "            x[i] = (b*xi + b + a + a)/(1. - xi)\n",
        "            w[i] = w[i]*2.*(a + b)/( (1. - xi)**2. )  "
      ],
      "execution_count": null,
      "outputs": []
    },
    {
      "cell_type": "code",
      "metadata": {
        "colab": {
          "background_save": true
        },
        "id": "laEqV8Dp0Mof"
      },
      "source": [
        "# **** función que calcula la integral llamando Gauss() para obtener los wi, xi ****       \n",
        "def Gauss(f, a, b, n):\n",
        "    \"\"\"\n",
        "       Integral de f(x) en [a,b] usando el metodo de Gauss con n puntos. \n",
        "    \"\"\"\n",
        "    w = np.zeros(n)           # contendrá los ceros de los pols. de Legendre\n",
        "    x = np.zeros(n)           # contendrá los pesos w para la integración\n",
        "\n",
        "    gauss(n, 0, a, b, x, w)   # Retorna puntos xi y wi\n",
        "\n",
        "    return sum(f(x)*w)        # Calcule integral    \n"
      ],
      "execution_count": null,
      "outputs": []
    },
    {
      "cell_type": "markdown",
      "metadata": {
        "id": "Z2X0aRsDa-RP"
      },
      "source": [
        "Para nuestros problemas asumidos hay una respuesta analítica:\n",
        "$$\\frac{dN}{dt}=e^{-t} $$\n",
        "\n",
        "$$N(1)=\\int_0^1 e^{-t}dt= 1-e^{-1}$$"
      ]
    },
    {
      "cell_type": "markdown",
      "metadata": {
        "id": "NM3e8zGnuSFz"
      },
      "source": [
        "Tenemos $f(t)=e^{-t}$ a integral en el intervalo  ($a=0$, $b=1$) cuyo valor analitico o exacto es $1-e^{-1}$"
      ]
    },
    {
      "cell_type": "code",
      "metadata": {
        "colab": {
          "background_save": true
        },
        "id": "r8xVYJAQoYsf"
      },
      "source": [
        "def f(t):\n",
        "  y=(np.e)**(-t)\n",
        "  return y\n",
        "\n",
        "a=0\n",
        "b=1\n",
        "N=[2,10,20,40,80,160] # Valores de N"
      ],
      "execution_count": null,
      "outputs": []
    },
    {
      "cell_type": "code",
      "metadata": {
        "colab": {
          "background_save": true
        },
        "id": "gkegxGCmbhH9"
      },
      "source": [
        "def Error(Metodo,f):\n",
        "  N=[2,10,20,40,80,160] # Valores de N\n",
        "  IE=(1-(np.e)**-1)*(np.ones(len(N))) # array con valor exacto de la integral\n",
        "  I=np.zeros(len(N))  #se guardaran el valor de la integral dado por el metodo\n",
        "  for i in range(len(N)):\n",
        "    I[i]=Metodo(f,a,b,N[i])\n",
        "  ER=np.abs(I-IE) \n",
        "  return ER\n"
      ],
      "execution_count": null,
      "outputs": []
    },
    {
      "cell_type": "code",
      "metadata": {
        "colab": {
          "background_save": true
        },
        "id": "_rrOM8I4c3pz"
      },
      "source": [
        "ERS=Error(Simpson,f)\n",
        "ERG=Error(Gauss,f)\n",
        "ERT=Error(Trapezoidal,f)"
      ],
      "execution_count": null,
      "outputs": []
    },
    {
      "cell_type": "code",
      "metadata": {
        "colab": {
          "background_save": true
        },
        "id": "CWt2xIpmxn7J"
      },
      "source": [
        "import pandas as pd\n",
        "\n",
        "datos={\"E_T\":ERT,\"E_S\":ERS,\"E_G\":ERG}\n",
        "datos\n",
        "DF=pd.DataFrame(data=datos,index=N)\n",
        "DF.index.name=\"N\""
      ],
      "execution_count": null,
      "outputs": []
    },
    {
      "cell_type": "code",
      "metadata": {
        "colab": {
          "background_save": true,
          "base_uri": "https://localhost:8080/",
          "height": 266
        },
        "id": "_Sox8KRw4VQD",
        "outputId": "4a7f9be6-ec77-41f1-b99b-3f4f9d07b935"
      },
      "source": [
        "DF  "
      ],
      "execution_count": null,
      "outputs": [
        {
          "data": {
            "text/html": [
              "<div>\n",
              "<style scoped>\n",
              "    .dataframe tbody tr th:only-of-type {\n",
              "        vertical-align: middle;\n",
              "    }\n",
              "\n",
              "    .dataframe tbody tr th {\n",
              "        vertical-align: top;\n",
              "    }\n",
              "\n",
              "    .dataframe thead th {\n",
              "        text-align: right;\n",
              "    }\n",
              "</style>\n",
              "<table border=\"1\" class=\"dataframe\">\n",
              "  <thead>\n",
              "    <tr style=\"text-align: right;\">\n",
              "      <th></th>\n",
              "      <th>E_T</th>\n",
              "      <th>E_S</th>\n",
              "      <th>E_G</th>\n",
              "    </tr>\n",
              "    <tr>\n",
              "      <th>N</th>\n",
              "      <th></th>\n",
              "      <th></th>\n",
              "      <th></th>\n",
              "    </tr>\n",
              "  </thead>\n",
              "  <tbody>\n",
              "    <tr>\n",
              "      <th>2</th>\n",
              "      <td>0.013115</td>\n",
              "      <td>2.131212e-04</td>\n",
              "      <td>1.417993e-04</td>\n",
              "    </tr>\n",
              "    <tr>\n",
              "      <th>10</th>\n",
              "      <td>0.000527</td>\n",
              "      <td>3.507605e-07</td>\n",
              "      <td>2.997602e-15</td>\n",
              "    </tr>\n",
              "    <tr>\n",
              "      <th>20</th>\n",
              "      <td>0.000132</td>\n",
              "      <td>2.194210e-08</td>\n",
              "      <td>1.332268e-15</td>\n",
              "    </tr>\n",
              "    <tr>\n",
              "      <th>40</th>\n",
              "      <td>0.000033</td>\n",
              "      <td>1.371687e-09</td>\n",
              "      <td>1.443290e-15</td>\n",
              "    </tr>\n",
              "    <tr>\n",
              "      <th>80</th>\n",
              "      <td>0.000008</td>\n",
              "      <td>8.573531e-11</td>\n",
              "      <td>2.109424e-15</td>\n",
              "    </tr>\n",
              "    <tr>\n",
              "      <th>160</th>\n",
              "      <td>0.000002</td>\n",
              "      <td>5.358380e-12</td>\n",
              "      <td>2.220446e-16</td>\n",
              "    </tr>\n",
              "  </tbody>\n",
              "</table>\n",
              "</div>"
            ],
            "text/plain": [
              "          E_T           E_S           E_G\n",
              "N                                        \n",
              "2    0.013115  2.131212e-04  1.417993e-04\n",
              "10   0.000527  3.507605e-07  2.997602e-15\n",
              "20   0.000132  2.194210e-08  1.332268e-15\n",
              "40   0.000033  1.371687e-09  1.443290e-15\n",
              "80   0.000008  8.573531e-11  2.109424e-15\n",
              "160  0.000002  5.358380e-12  2.220446e-16"
            ]
          },
          "execution_count": null,
          "metadata": {},
          "output_type": "execute_result"
        }
      ]
    },
    {
      "cell_type": "code",
      "metadata": {
        "colab": {
          "background_save": true,
          "base_uri": "https://localhost:8080/",
          "height": 588
        },
        "id": "OxaqOFwsGHQF",
        "outputId": "728fe3ab-22cf-4f1a-980c-f49a72619b4b"
      },
      "source": [
        "#graficos========================================================\n",
        "\n",
        "plt.figure(figsize=(12,9))\n",
        "plt.title('Error relativo vs truncamiento N')\n",
        "plt.loglog(N,ERT,'o--',label='$metodo del trapecio$')\n",
        "plt.loglog(N,ERS,'o--',label='$metodo del Simpson$')\n",
        "plt.loglog(N,ERG,'o--',label='$metodo de Gauus$')\n",
        "plt.xlabel('N')\n",
        "plt.ylabel('ER')"
      ],
      "execution_count": null,
      "outputs": [
        {
          "data": {
            "text/plain": [
              "Text(0, 0.5, 'ER')"
            ]
          },
          "execution_count": null,
          "metadata": {},
          "output_type": "execute_result"
        },
        {
          "data": {
            "image/png": "[encoded data removed]",
            "text/plain": [
              "<Figure size 864x648 with 1 Axes>"
            ]
          },
          "metadata": {},
          "output_type": "display_data"
        }
      ]
    }
  ]
}