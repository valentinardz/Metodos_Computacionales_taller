{
  "nbformat": 4,
  "nbformat_minor": 0,
  "metadata": {
    "colab": {
      "name": "Taller13_Matrices.ipynb",
      "provenance": [],
      "collapsed_sections": []
    },
    "kernelspec": {
      "name": "python3",
      "display_name": "Python 3"
    },
    "language_info": {
      "name": "python"
    }
  },
  "cells": [
    {
      "cell_type": "markdown",
      "metadata": {
        "id": "2lQK4usjduhg"
      },
      "source": [
        "**Yennifer Yuliana Guerrero, Valentina Rodriguez Hernandez y Mariana Fernandez Prieto**"
      ]
    },
    {
      "cell_type": "markdown",
      "metadata": {
        "id": "WZRSr3JEjFv1"
      },
      "source": [
        "###**Actividad 0** "
      ]
    },
    {
      "cell_type": "markdown",
      "metadata": {
        "id": "6i72nJdad2Fr"
      },
      "source": [
        "1. Estudiar las operaciones basicas con matrices.\n",
        "2. Suma de matrices\n",
        "3. Resta de matrices\n",
        "4. Multiplicacion por un escalar.\n",
        "5. Determinar el determinante de una matriz\n",
        "6. Determinar la inversa de una matriz\n",
        "7. Diagonizacion de matrices"
      ]
    },
    {
      "cell_type": "code",
      "metadata": {
        "id": "uqXzHxN3Od4x"
      },
      "source": [
        "#librerias===================================================================\n",
        "\n",
        "import numpy as np\n",
        "import scipy.linalg as la\n",
        "from numpy.linalg import *\n",
        "import matplotlib.pyplot as plt\n",
        "\n"
      ],
      "execution_count": 1,
      "outputs": []
    },
    {
      "cell_type": "code",
      "metadata": {
        "id": "ltrp-tyCOFcS"
      },
      "source": [
        "# Definicion de una matriz cuadra 2x2 con numeros enteros\n",
        "c1 = np.array([1, 1])\n",
        "c2 = np.array([3, 4])\n",
        "\n",
        "m = np.array([c1,c2])\n",
        "M = np.asmatrix(m)"
      ],
      "execution_count": 2,
      "outputs": []
    },
    {
      "cell_type": "code",
      "metadata": {
        "colab": {
          "base_uri": "https://localhost:8080/"
        },
        "id": "SxfcQA6eOFLS",
        "outputId": "eb90f429-efc0-4fe0-960a-a62eb06f9f76"
      },
      "source": [
        "m[1],m[:,0]"
      ],
      "execution_count": 3,
      "outputs": [
        {
          "output_type": "execute_result",
          "data": {
            "text/plain": [
              "(array([3, 4]), array([1, 3]))"
            ]
          },
          "metadata": {},
          "execution_count": 3
        }
      ]
    },
    {
      "cell_type": "code",
      "metadata": {
        "colab": {
          "base_uri": "https://localhost:8080/"
        },
        "id": "qjSK4-DPPYZl",
        "outputId": "92036e30-479a-4a99-f22a-ed626953f873"
      },
      "source": [
        "np.shape(m)#dimesión de la matriz\n"
      ],
      "execution_count": 4,
      "outputs": [
        {
          "output_type": "execute_result",
          "data": {
            "text/plain": [
              "(2, 2)"
            ]
          },
          "metadata": {},
          "execution_count": 4
        }
      ]
    },
    {
      "cell_type": "code",
      "metadata": {
        "colab": {
          "base_uri": "https://localhost:8080/"
        },
        "id": "-cxXoZK6P2q7",
        "outputId": "a4dfb36e-637f-4b6e-b276-8ea67d56f586"
      },
      "source": [
        "#multiplicacion de la matriz por un escalar \n",
        "2*m"
      ],
      "execution_count": 5,
      "outputs": [
        {
          "output_type": "execute_result",
          "data": {
            "text/plain": [
              "array([[2, 2],\n",
              "       [6, 8]])"
            ]
          },
          "metadata": {},
          "execution_count": 5
        }
      ]
    },
    {
      "cell_type": "code",
      "metadata": {
        "colab": {
          "base_uri": "https://localhost:8080/"
        },
        "id": "qRZorzVpP8hu",
        "outputId": "01dde5f4-9da4-44f6-9ca3-524e94a64121"
      },
      "source": [
        "m@m #multiplicación"
      ],
      "execution_count": 6,
      "outputs": [
        {
          "output_type": "execute_result",
          "data": {
            "text/plain": [
              "array([[ 4,  5],\n",
              "       [15, 19]])"
            ]
          },
          "metadata": {},
          "execution_count": 6
        }
      ]
    },
    {
      "cell_type": "code",
      "metadata": {
        "colab": {
          "base_uri": "https://localhost:8080/"
        },
        "id": "PYnDNFs7QEuS",
        "outputId": "e7dcc19b-d124-4eb2-927b-e05788c1c32a"
      },
      "source": [
        "#determinante de la matriz (array)\n",
        "np.linalg.det(m)"
      ],
      "execution_count": 7,
      "outputs": [
        {
          "output_type": "execute_result",
          "data": {
            "text/plain": [
              "0.9999999999999998"
            ]
          },
          "metadata": {},
          "execution_count": 7
        }
      ]
    },
    {
      "cell_type": "code",
      "metadata": {
        "colab": {
          "base_uri": "https://localhost:8080/"
        },
        "id": "ktDOOi24QMj3",
        "outputId": "52535a1d-8196-42db-acfd-81a12c078acc"
      },
      "source": [
        "#Inversa de la matriz (objeto matrix)\n",
        "M.I"
      ],
      "execution_count": 8,
      "outputs": [
        {
          "output_type": "execute_result",
          "data": {
            "text/plain": [
              "matrix([[ 4., -1.],\n",
              "        [-3.,  1.]])"
            ]
          },
          "metadata": {},
          "execution_count": 8
        }
      ]
    },
    {
      "cell_type": "code",
      "metadata": {
        "id": "K-IhibOFwdPi",
        "colab": {
          "base_uri": "https://localhost:8080/"
        },
        "outputId": "04164b62-4b0a-44de-d790-846f8102aae3"
      },
      "source": [
        "#Trasnpuesta de la matriz (objeto matrix)\n",
        "M.T "
      ],
      "execution_count": 9,
      "outputs": [
        {
          "output_type": "execute_result",
          "data": {
            "text/plain": [
              "matrix([[1, 3],\n",
              "        [1, 4]])"
            ]
          },
          "metadata": {},
          "execution_count": 9
        }
      ]
    },
    {
      "cell_type": "code",
      "metadata": {
        "colab": {
          "base_uri": "https://localhost:8080/"
        },
        "id": "NN-MA57_QVU4",
        "outputId": "00ff212f-13dd-4100-9082-e38494da6e24"
      },
      "source": [
        "#Inversa de la matriz (objeto de Numpy) \n",
        "np.linalg.inv(m)"
      ],
      "execution_count": 10,
      "outputs": [
        {
          "output_type": "execute_result",
          "data": {
            "text/plain": [
              "array([[ 4., -1.],\n",
              "       [-3.,  1.]])"
            ]
          },
          "metadata": {},
          "execution_count": 10
        }
      ]
    },
    {
      "cell_type": "code",
      "metadata": {
        "id": "AdMo8BZFQ1RT"
      },
      "source": [
        "# Definicion de una matriz cuadra 2x2 con numeros aleatorios enteros\n",
        "\n",
        "M = np.array([np.random.randint(0, 20, 2), np.random.randint(0, 20, 2)])\n",
        "M1 = np.asmatrix(M)"
      ],
      "execution_count": 11,
      "outputs": []
    },
    {
      "cell_type": "markdown",
      "metadata": {
        "id": "Wrl1pUHXSYUA"
      },
      "source": [
        "Polinomio caracteristico de la matriz M\n",
        "\n",
        "$det(M-\\lambda I) = 0$\n",
        "\n",
        "Las raices del polinomio carcteristico son los autovalores asociados a la matriz"
      ]
    },
    {
      "cell_type": "markdown",
      "metadata": {
        "id": "-B8GXeDxTcK1"
      },
      "source": [
        "¿Cual es el polinomio caracteristico?\n",
        "```\n",
        "\n",
        "matrix([[ 6,  3],\n",
        "        [14, 13]])\n",
        "\n",
        "```\n",
        "\n",
        "  $\\lambda^2-19\\lambda +36=0$"
      ]
    },
    {
      "cell_type": "code",
      "metadata": {
        "id": "SLdxqSMO1WFu"
      },
      "source": [
        "c1 = np.array([6, 3])\n",
        "c2 = np.array([14, 13])\n",
        "\n",
        "m = np.array([c1,c2])\n",
        "M = np.asmatrix(m)"
      ],
      "execution_count": 12,
      "outputs": []
    },
    {
      "cell_type": "code",
      "metadata": {
        "id": "WYL_Pdeo1nxP"
      },
      "source": [
        "autovalor, autovector = la.eig(M)"
      ],
      "execution_count": 13,
      "outputs": []
    },
    {
      "cell_type": "code",
      "metadata": {
        "colab": {
          "base_uri": "https://localhost:8080/"
        },
        "id": "jxINzdOKUSSx",
        "outputId": "2956086e-9c7f-41b7-c538-ce30374e0458"
      },
      "source": [
        "#polinomio caracteristico\n",
        "\n",
        "f = lambda x: x**2-19*x+36\n",
        "#valor del polinomio caracteristico evaluado el el primer autovalor\n",
        "f(autovalor[1])"
      ],
      "execution_count": 14,
      "outputs": [
        {
          "output_type": "execute_result",
          "data": {
            "text/plain": [
              "0j"
            ]
          },
          "metadata": {},
          "execution_count": 14
        }
      ]
    },
    {
      "cell_type": "code",
      "metadata": {
        "id": "LwAMzk3aUeuP",
        "colab": {
          "base_uri": "https://localhost:8080/"
        },
        "outputId": "355f587c-5990-402f-e33a-443803a72128"
      },
      "source": [
        "M = np.array([np.random.randint(0, 20, 3), np.random.randint(0, 20, 3),np.random.randint(0, 20, 3)])\n",
        "\n",
        "M1 = np.asmatrix(M)\n",
        "M1"
      ],
      "execution_count": 15,
      "outputs": [
        {
          "output_type": "execute_result",
          "data": {
            "text/plain": [
              "matrix([[13, 10, 15],\n",
              "        [15,  6, 16],\n",
              "        [10,  9,  6]])"
            ]
          },
          "metadata": {},
          "execution_count": 15
        }
      ]
    },
    {
      "cell_type": "code",
      "metadata": {
        "colab": {
          "base_uri": "https://localhost:8080/"
        },
        "id": "TP9yKR6rUeb_",
        "outputId": "f85fd823-043b-4950-bdf8-79764742ad39"
      },
      "source": [
        "autovalor, autovector = la.eig(M1)\n",
        "autovalor.round()\n"
      ],
      "execution_count": 16,
      "outputs": [
        {
          "output_type": "execute_result",
          "data": {
            "text/plain": [
              "array([33.+0.j, -2.+0.j, -6.+0.j])"
            ]
          },
          "metadata": {},
          "execution_count": 16
        }
      ]
    },
    {
      "cell_type": "code",
      "metadata": {
        "colab": {
          "base_uri": "https://localhost:8080/"
        },
        "id": "mfgrvaYEUz36",
        "outputId": "25b711fe-a9c8-4c5a-e9cd-d56c86f46d28"
      },
      "source": [
        "autovector.round()"
      ],
      "execution_count": 17,
      "outputs": [
        {
          "output_type": "execute_result",
          "data": {
            "text/plain": [
              "array([[-1., -1., -0.],\n",
              "       [-1.,  0., -1.],\n",
              "       [-0.,  1.,  1.]])"
            ]
          },
          "metadata": {},
          "execution_count": 17
        }
      ]
    },
    {
      "cell_type": "code",
      "metadata": {
        "id": "Yzk9WkkwrMqO"
      },
      "source": [
        "U=np.asmatrix(autovector)\n"
      ],
      "execution_count": 18,
      "outputs": []
    },
    {
      "cell_type": "code",
      "metadata": {
        "colab": {
          "base_uri": "https://localhost:8080/"
        },
        "id": "DaU6-BfvqApc",
        "outputId": "efb3dd2a-a947-4a9c-c6c9-bb437b7b0a13"
      },
      "source": [
        "U.I #"
      ],
      "execution_count": 19,
      "outputs": [
        {
          "output_type": "execute_result",
          "data": {
            "text/plain": [
              "matrix([[-0.66494069, -0.45977473, -0.64143592],\n",
              "        [-0.78436739,  0.54139388,  0.37907327],\n",
              "        [ 0.17291404, -0.72034745,  0.75488957]])"
            ]
          },
          "metadata": {},
          "execution_count": 19
        }
      ]
    },
    {
      "cell_type": "code",
      "metadata": {
        "id": "4g3Bif5OXL3j",
        "colab": {
          "base_uri": "https://localhost:8080/"
        },
        "outputId": "92fa28e2-100e-4e78-f8f6-7421a42b1d4e"
      },
      "source": [
        "\n",
        "D=U.I@M1@U#matriz diagonal\n",
        "D=D.round()\n",
        "D"
      ],
      "execution_count": 20,
      "outputs": [
        {
          "output_type": "execute_result",
          "data": {
            "text/plain": [
              "matrix([[33., -0.,  0.],\n",
              "        [ 0., -2., -0.],\n",
              "        [-0., -0., -6.]])"
            ]
          },
          "metadata": {},
          "execution_count": 20
        }
      ]
    },
    {
      "cell_type": "code",
      "metadata": {
        "colab": {
          "base_uri": "https://localhost:8080/"
        },
        "id": "ZNe2prIfsZDI",
        "outputId": "f82ad974-7888-4a38-e5b8-6d3c162745c5"
      },
      "source": [
        "#otra forma de hallar la matriz diagonal\n",
        "D=np.diag(autovalor) \n",
        "D.round()"
      ],
      "execution_count": 21,
      "outputs": [
        {
          "output_type": "execute_result",
          "data": {
            "text/plain": [
              "array([[33.+0.j,  0.+0.j,  0.+0.j],\n",
              "       [ 0.+0.j, -2.+0.j,  0.+0.j],\n",
              "       [ 0.+0.j,  0.+0.j, -6.+0.j]])"
            ]
          },
          "metadata": {},
          "execution_count": 21
        }
      ]
    },
    {
      "cell_type": "markdown",
      "metadata": {
        "id": "dX7-IoI26Wud"
      },
      "source": [
        "###**Actividad 1**"
      ]
    },
    {
      "cell_type": "markdown",
      "metadata": {
        "id": "pKmGWUKqNOnY"
      },
      "source": [
        "\n",
        "Se sabe que un sistema físico es gobernado por las ecuaciones,\n",
        "\n",
        "\n",
        "\n",
        "$$\n",
        "\\begin{matrix}\n",
        "x' &=& 2x&-y&+z, \\\\\n",
        "y' &=&   &3y&-1z, \\\\\n",
        "z' &=& 2x&+y&+3z,\n",
        "\\end{matrix}\n",
        "$$\n",
        "\n",
        "donde $x',y',z'$ son las derivadas, en forma vectorial esto se puede representar como $\\mathbf{r}'=A\\mathbf{r}$ que tiene solución analítica general, $\\mathbf{r} = e^{At} \\mathbf{r}(0)$.<br> \n",
        "a) Diagonalize $A$.<br> \n",
        "\n",
        "b) Use el hecho de que $f(A) = U f(D) U^{-1}$ para encontrar $x(t),y(t),z(t)$ en el intervalo de tiempo $[0,2]$.<br>.\n",
        "c) Grafique $x(t),y(t),z(t)$ (use la condición inicial $\\mathbf{r}(0)=(1,1,2))$.<br> \n",
        "d) Compare el resultado a la solución analítica,\n",
        "\n",
        "$$\n",
        "\\begin{align}\n",
        "2x & = x(0)(e^{2t}(1+e^{2t}-2t)) + y(0) (-2te^{2t}) + z(0)(e^{2t}(-1+e^{2t})), \\\\\n",
        "2y & = x(0)(-e^{2t}(-1+e^{2t}-2t)) + y(0)(2(t+1)e^{2t}) + z(0)(-e^{2t}(-1+e^{2t})), \\\\\n",
        "2z & = x(0)(e^{2t}(-1+e^{2t}+2t)) + y(0)(2te^{2t}) + z(0)(e^{2t}(1+e^{2t})).\n",
        "\\end{align}\n",
        "$$"
      ]
    },
    {
      "cell_type": "code",
      "metadata": {
        "id": "I8xjp-6LbJD2",
        "colab": {
          "base_uri": "https://localhost:8080/"
        },
        "outputId": "08a88a44-b462-4f75-da5f-5f1d4218c53a"
      },
      "source": [
        "#Punto a======================================================================\n",
        "\n",
        "# Definimos la matriz\n",
        "A = np.matrix([\n",
        "    [2, -1, 1],\n",
        "    [0, 3, -1],\n",
        "    [2, 1, 3]])\n",
        "\n",
        "e, P =eig(A)       # Calculamos los valores y vectores propios\n",
        "\n",
        "print (\"\\nAutovalores de A: \\n\",  np.round(e,3))\n",
        "\n",
        "D = np.diag(e)   # Creamos matriz diagonal\n",
        "\n",
        "A1 = P@D@inv(P)\n",
        "print(\"\\nVerificamos si PDP^-1 == A:\\n\", np.round(A1, 3))"
      ],
      "execution_count": 22,
      "outputs": [
        {
          "output_type": "stream",
          "name": "stdout",
          "text": [
            "\n",
            "Autovalores de A: \n",
            " [4.+0.j 2.+0.j 2.-0.j]\n",
            "\n",
            "Verificamos si PDP^-1 == A:\n",
            " [[ 2.+0.j -1.+0.j  1.+0.j]\n",
            " [ 0.-0.j  3.-0.j -1.-0.j]\n",
            " [ 2.+0.j  1.+0.j  3.-0.j]]\n"
          ]
        }
      ]
    },
    {
      "cell_type": "code",
      "metadata": {
        "id": "TSAMw_WvbJD4",
        "colab": {
          "base_uri": "https://localhost:8080/"
        },
        "outputId": "e3ebc53b-e398-4459-8d91-99c2d4159a80"
      },
      "source": [
        "#Punto b)==================================================================\n",
        "\n",
        "t0, tf = 0, 2\n",
        "dt = 0.01\n",
        "t = np.arange(t0, tf+dt, dt)  # Intervalo de tiempo\n",
        "r0 = np.array([1, 1, 2])    # Condición inicial\n",
        "\n",
        "r = np.zeros((len(t), 3))     # Vector solución [x, y, z]\n",
        "\n",
        "for i in range(len(t)):\n",
        "    D1 = np.diag(np.exp(e*t[i]))   # f(D)\n",
        "    R = P@D1@inv(P)        # e^(At)\n",
        "    r[i] = np.dot(R,r0)    # e^(At) * r0\n",
        "    \n",
        "# Soluciones\n",
        "x, y, z = r[:,0], r[:,1], r[:,2]"
      ],
      "execution_count": 23,
      "outputs": [
        {
          "output_type": "stream",
          "name": "stderr",
          "text": [
            "/usr/local/lib/python3.7/dist-packages/ipykernel_launcher.py:13: ComplexWarning: Casting complex values to real discards the imaginary part\n",
            "  del sys.path[0]\n"
          ]
        }
      ]
    },
    {
      "cell_type": "code",
      "metadata": {
        "id": "u7us-prnbJD5",
        "colab": {
          "base_uri": "https://localhost:8080/",
          "height": 374
        },
        "outputId": "710a14f6-c5fd-4156-93eb-32d5c9dbfee5"
      },
      "source": [
        "#Punto c=============================================================\n",
        "\n",
        "plt.figure(figsize=(18, 5))\n",
        "plt.subplot(131)\n",
        "plt.suptitle('Solución numérica con matrices')\n",
        "plt.plot(t, x, label='$x(t)$', color='purple')\n",
        "plt.xlabel('Tiempo $t$')\n",
        "plt.legend()\n",
        "plt.grid()\n",
        "\n",
        "plt.subplot(132)\n",
        "plt.plot(t, y, label='$y(t)$', color='pink')\n",
        "plt.xlabel('Tiempo $t$')\n",
        "plt.legend()\n",
        "plt.grid()\n",
        "\n",
        "plt.subplot(133)\n",
        "plt.plot(t, z, label='$z(t)$', color='teal')\n",
        "plt.xlabel('Tiempo $t$')\n",
        "plt.legend()\n",
        "plt.grid()"
      ],
      "execution_count": 24,
      "outputs": [
        {
          "output_type": "display_data",
          "data": {
            "image/png": "[encoded data removed]",
            "text/plain": [
              "<Figure size 1296x360 with 3 Axes>"
            ]
          },
          "metadata": {
            "needs_background": "light"
          }
        }
      ]
    },
    {
      "cell_type": "code",
      "metadata": {
        "id": "tw_yBQ7VbJD7",
        "colab": {
          "base_uri": "https://localhost:8080/",
          "height": 374
        },
        "outputId": "df62c5e2-9233-43e9-c7d1-2b550b9db716"
      },
      "source": [
        "#Punto d=======================================================================\n",
        "\n",
        "xa = 0.5*( r0[0]*np.exp(2*t)*(1+np.exp(2*t)-2*t) + r0[1]*(-2*t*np.exp(2*t)) + r0[2]*np.exp(2*t)*(-1+np.exp(2*t)) )\n",
        "ya = 0.5*( r0[0]*(-np.exp(2*t)*(-1+np.exp(2*t)-2*t)) + r0[1]*(2*(t+1)*np.exp(2*t)) + r0[2]*(-np.exp(2*t)*(-1+np.exp(2*t))) ) \n",
        "za = 0.5*( r0[0]*np.exp(2*t)*(-1+np.exp(2*t)+2*t) + r0[1]*2*t*np.exp(2*t) + r0[2]*np.exp(2*t)*(1+np.exp(2*t)) )\n",
        "\n",
        "plt.figure(figsize=(18, 5))\n",
        "plt.subplot(131)\n",
        "plt.suptitle('Comparación - solución analítica y numérica con matrices')\n",
        "\n",
        "plt.plot(t, x, label='Matrices: $x(t)$', color='lime')\n",
        "plt.plot(t, xa, label='Analítica: $x(t)$', color='olive')\n",
        "plt.xlabel('Tiempo $t$')\n",
        "plt.legend()\n",
        "plt.grid()\n",
        "\n",
        "plt.subplot(132)\n",
        "plt.plot(t, y, label='Matrices: $y(t)$', color='blue')\n",
        "plt.plot(t, ya, label='Analítica: $y(t)$', color='aqua')\n",
        "plt.xlabel('Tiempo $t$')\n",
        "plt.legend()\n",
        "plt.grid()\n",
        "\n",
        "plt.subplot(133)\n",
        "plt.plot(t, z, label='Matrices: $z(t)$', color='hotpink')\n",
        "plt.plot(t, za, label='Analítica: $z(t)$', color='crimson')\n",
        "plt.xlabel('Tiempo $t$')\n",
        "plt.legend()\n",
        "plt.grid()"
      ],
      "execution_count": 25,
      "outputs": [
        {
          "output_type": "display_data",
          "data": {
            "image/png": "[encoded data removed]",
            "text/plain": [
              "<Figure size 1296x360 with 3 Axes>"
            ]
          },
          "metadata": {
            "needs_background": "light"
          }
        }
      ]
    },
    {
      "cell_type": "markdown",
      "metadata": {
        "id": "sSyT1x56bJD8"
      },
      "source": [
        "**Discusión:**\n",
        "Por medio de la diagonalización de matrices pudimos encontrar las soluciones al sistema de ecuaciones del sistema físico a partir de la ecuación $\\mathbf{r} = e^{At} \\mathbf{r}(0)$ que corresponde a la solución analítica de la ecuación vectorial diferencial $\\mathbf{r}'=A\\mathbf{r}$ que a su vez representa al sistema de ecuaciones. Teniendo esto en cuenta, observemos que al comparar las soluciones analíticas $<x, y, z>$ con las soluciones obtenidas de la diagonalización, tenemos una precisión bastante alta y esto es razonable pues la diagonalización también corresponde a una solución analítica del sistema, sin embargo, el hecho de operar matrices con métodos numéricos le quita precisión a las soluciones, aunque esto es despreciable computacionalmente."
      ]
    },
    {
      "cell_type": "markdown",
      "metadata": {
        "id": "8TyiG12y83Y2"
      },
      "source": [
        "###**Actividad 2**"
      ]
    },
    {
      "cell_type": "markdown",
      "metadata": {
        "id": "IcmCVH33NOjy"
      },
      "source": [
        "\n",
        " Un proceso para encriptar un mensaje secreto es usar cierta matrix cuadrada cuyos elementos son enteros con elementos enteros en la inversa. Se recibe un mensaje, se asigna un número a cada letra Por ejemplo, A=1, B=2, C=3, ... etc y espacio=27), se arreglan los números en una matriz de izquierda a derecha en cada fila, donde el número de elementos en la fila es igual al tamano de la matriz de codigo, se multiplica esa matriz por la matriz de código por la derecha, se transcribe el mensaje en una cadena de números y se manda el mensaje. \n",
        "\n",
        "La persona que debe recibir el mensaje conoce la matriz de codigo. El o ellla arrelgan el mensaje encriptado en una matriz de izquierda a derecha en cada fila, en donde el numero de elementos en una fila conicide con el tamano de la matriz de codigo muplicada por la derecha, por el inverso de la matriz de código y puede leer mensaje decodificado.\n",
        "\n",
        "Usted a recibido el siguiente mensaje que fue encriptado usando la matriz A. Decodifiquelo.\n",
        "\n",
        "```\n",
        "A = matrix([[ 1,  2, -3,  4,  5],\n",
        "        [-2, -5,  8, -8, -9],\n",
        "        [ 1,  2, -2,  7,  9],\n",
        "        [ 1,  1,  0,  6, 12],\n",
        "        [ 2,  4, -6,  8, 11]])\n",
        "```\n",
        "\n",
        "Mensaje\n",
        "\n",
        "47,49,-19,257,487,10,-9,63,137,236, 79,142,-184,372,536,59,70,-40,332,588, \n",
        "\n",
        "la primera fila del mensaje es 47,49,-19,257,487\n",
        "\n",
        "¿Cual es el mensaje?\n",
        "\n"
      ]
    },
    {
      "cell_type": "markdown",
      "metadata": {
        "id": "bmekAD3oNOg0"
      },
      "source": [
        "\n",
        "\n",
        "```\n",
        "abc=['A','B','C','D','E','F','G','H','I','J','K','L','M','N','O','P','Q','R','S','T','U','V','W','X','Y','Z',' ']\n",
        "num=['1','2','3','4','5','6','7','8','9','10','11','12','13','14','15','16','17','18','19','20','21','22','23','24','25','26','27']\n",
        "```\n"
      ]
    },
    {
      "cell_type": "code",
      "metadata": {
        "id": "VJqTbGSunCCC"
      },
      "source": [
        "#Mensaje \n",
        "M=np.array([[47,49,-19,257,487],\n",
        "            [10,-9,63,137,236],\n",
        "            [79,142,-184,372,536],\n",
        "            [59,70,-40,332,588]])\n",
        "\n",
        "#Matriz de código \n",
        "\n",
        "x=np.array([[ 1,  2, -3,  4,  5],\n",
        "            [-2, -5,  8, -8, -9],\n",
        "            [ 1,  2, -2,  7,  9],\n",
        "            [ 1,  1,  0,  6, 12],\n",
        "            [ 2,  4, -6,  8, 11]])\n",
        "\n",
        "# Diccionario con las claves\n",
        "Diccionario= {1: 'A', 2: 'B', 3: 'C', 4: 'D', 5: 'E', 6: 'F', 7: 'G', 8: 'H', 9: 'I', 10: 'J', 11: 'K',\n",
        "       12: 'L', 13: 'M', 14: 'N', 15: 'O', 16: 'P', 17: 'Q', 18: 'R', 19: 'S', 20: 'T', 21: 'U',\n",
        "       22: 'V', 23: 'W', 24: 'X', 25: 'Y', 26: 'Z', 27: ' '}"
      ],
      "execution_count": 26,
      "outputs": []
    },
    {
      "cell_type": "code",
      "metadata": {
        "colab": {
          "base_uri": "https://localhost:8080/"
        },
        "id": "ZAqq4nScsBiw",
        "outputId": "dce32040-771b-4ccc-e5b9-3b74c23e8dc6"
      },
      "source": [
        "C=np.dot( M,np.linalg.inv(x))\n",
        "C"
      ],
      "execution_count": 27,
      "outputs": [
        {
          "output_type": "execute_result",
          "data": {
            "text/plain": [
              "array([[ 1., 18.,  5., 27., 25.],\n",
              "       [15., 21., 27.,  8.,  1.],\n",
              "       [22.,  9., 14.,  7., 27.],\n",
              "       [ 6., 21., 14., 27., 27.]])"
            ]
          },
          "metadata": {},
          "execution_count": 27
        }
      ]
    },
    {
      "cell_type": "code",
      "metadata": {
        "colab": {
          "base_uri": "https://localhost:8080/"
        },
        "id": "gWn38BIO4UgG",
        "outputId": "5982787d-92c5-41cc-aff4-5b8d4c9af551"
      },
      "source": [
        "mensaje = ''\n",
        "for i in range(C.shape[0]):\n",
        "  for j in range(C.shape[1]):\n",
        "    mensaje=mensaje +Diccionario[C[i, j].round()]\n",
        "print(\"Mensaje:\", mensaje)"
      ],
      "execution_count": 28,
      "outputs": [
        {
          "output_type": "stream",
          "name": "stdout",
          "text": [
            "Mensaje: ARE YOU HAVING FUN  \n"
          ]
        }
      ]
    },
    {
      "cell_type": "markdown",
      "metadata": {
        "id": "SJ6JcZIr9Bzf"
      },
      "source": [
        "###**Actividad 3**"
      ]
    },
    {
      "cell_type": "markdown",
      "metadata": {
        "id": "KL0-AvnOwdtB"
      },
      "source": [
        "Construir un programa que permita realizar la multiplicacion de dos matrices. El programa debe establecer si las matrices se pueden multiplicar.\n"
      ]
    },
    {
      "cell_type": "code",
      "metadata": {
        "id": "CDFLZNITffTW"
      },
      "source": [
        "def dot(M1,M2):\n",
        "\n",
        "  n1=(np.shape(M1)[1])#número de columnas de M1\n",
        "  n2=(np.shape(M2)[0])#número de filas de M2\n",
        "\n",
        "  if n1==n2:\n",
        "    m=(np.shape(M1)[0])#número de filas de M1\n",
        "    n=(np.shape(M2)[1])#número de columnas de M2\n",
        "    C=np.zeros([m,n]) # se guardan las entradas de la matriz del producto\n",
        "    for i in range(m):\n",
        "      for j in range(n):\n",
        "        C[i,j]=np.dot(M1[i,:],M2[:,j])\n",
        "    y=C\n",
        "  else:\n",
        "    y=('No se pueden multiplicar las matrices')\n",
        "\n",
        "  return y\n",
        "\n"
      ],
      "execution_count": 29,
      "outputs": []
    }
  ]
}